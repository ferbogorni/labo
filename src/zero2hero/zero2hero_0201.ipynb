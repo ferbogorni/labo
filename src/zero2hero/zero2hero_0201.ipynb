{
 "cells": [
  {
   "cell_type": "markdown",
   "metadata": {},
   "source": [
    "# Zero to Hero"
   ]
  },
  {
   "cell_type": "markdown",
   "metadata": {},
   "source": [
    "## 2.01 Optimizacion Bayesiana"
   ]
  },
  {
   "cell_type": "raw",
   "metadata": {},
   "source": [
    "El objetivo es mostrar como funciona la Optimizacion Bayesiana en el caso mas simple : una funcion univariada"
   ]
  },
  {
   "cell_type": "markdown",
   "metadata": {},
   "source": [
    "### Advertencia"
   ]
  },
  {
   "cell_type": "markdown",
   "metadata": {},
   "source": [
    "El uso del método de Optimización Bayesiana para la optimización de hiperparámetros en modelos predictivos tiene menos de una década.\n",
    "Entender los fundamentos de la O.B. requieren de una sólida formación matemática y **no** son el objetivo de esta asignatura.\n",
    "Para quienes deseen aventurarse a los detalles técnicos:\n",
    "* El paper original de la libreria mlrMBO (año 2018 )   https://arxiv.org/pdf/1703.03373.pdf\n",
    "* El método de Kriging , tal cual se deriva del uso original, en este pequeño libro de 106 páginas \"Basic Steps in Geostatistics: The Variogram and Kriging\" https://www.pdfdrive.com/basic-steps-in-geostatistics-the-variogram-and-kriging-e187336318.html"
   ]
  },
  {
   "cell_type": "markdown",
   "metadata": {},
   "source": [
    "### El código"
   ]
  },
  {
   "cell_type": "code",
   "execution_count": 2,
   "metadata": {
    "tags": [],
    "vscode": {
     "languageId": "r"
    }
   },
   "outputs": [
    {
     "data": {
      "text/html": [
       "<table class=\"dataframe\">\n",
       "<caption>A matrix: 2 × 6 of type dbl</caption>\n",
       "<thead>\n",
       "\t<tr><th></th><th scope=col>used</th><th scope=col>(Mb)</th><th scope=col>gc trigger</th><th scope=col>(Mb)</th><th scope=col>max used</th><th scope=col>(Mb)</th></tr>\n",
       "</thead>\n",
       "<tbody>\n",
       "\t<tr><th scope=row>Ncells</th><td> 642487</td><td>34.4</td><td>1321322</td><td>70.6</td><td>1321322</td><td>70.6</td></tr>\n",
       "\t<tr><th scope=row>Vcells</th><td>1147059</td><td> 8.8</td><td>8388608</td><td>64.0</td><td>1632080</td><td>12.5</td></tr>\n",
       "</tbody>\n",
       "</table>\n"
      ],
      "text/latex": [
       "A matrix: 2 × 6 of type dbl\n",
       "\\begin{tabular}{r|llllll}\n",
       "  & used & (Mb) & gc trigger & (Mb) & max used & (Mb)\\\\\n",
       "\\hline\n",
       "\tNcells &  642487 & 34.4 & 1321322 & 70.6 & 1321322 & 70.6\\\\\n",
       "\tVcells & 1147059 &  8.8 & 8388608 & 64.0 & 1632080 & 12.5\\\\\n",
       "\\end{tabular}\n"
      ],
      "text/markdown": [
       "\n",
       "A matrix: 2 × 6 of type dbl\n",
       "\n",
       "| <!--/--> | used | (Mb) | gc trigger | (Mb) | max used | (Mb) |\n",
       "|---|---|---|---|---|---|---|\n",
       "| Ncells |  642487 | 34.4 | 1321322 | 70.6 | 1321322 | 70.6 |\n",
       "| Vcells | 1147059 |  8.8 | 8388608 | 64.0 | 1632080 | 12.5 |\n",
       "\n"
      ],
      "text/plain": [
       "       used    (Mb) gc trigger (Mb) max used (Mb)\n",
       "Ncells  642487 34.4 1321322    70.6 1321322  70.6\n",
       "Vcells 1147059  8.8 8388608    64.0 1632080  12.5"
      ]
     },
     "metadata": {},
     "output_type": "display_data"
    },
    {
     "name": "stderr",
     "output_type": "stream",
     "text": [
      "Loading required package: DiceKriging\n",
      "\n",
      "Loading required package: mlrMBO\n",
      "\n",
      "Loading required package: mlr\n",
      "\n",
      "Loading required package: ParamHelpers\n",
      "\n",
      "Warning message: 'mlr' is in 'maintenance-only' mode since July 2019.\n",
      "Future development will only happen in 'mlr3'\n",
      "(<https://mlr3.mlr-org.com>). Due to the focus on 'mlr3' there might be\n",
      "uncaught bugs meanwhile in {mlr} - please consider switching.\n",
      "\n",
      "Loading required package: smoof\n",
      "\n",
      "Loading required package: checkmate\n",
      "\n",
      "\n",
      "Attaching package: 'checkmate'\n",
      "\n",
      "\n",
      "The following object is masked from 'package:DiceKriging':\n",
      "\n",
      "    checkNames\n",
      "\n",
      "\n"
     ]
    }
   ],
   "source": [
    "#Ejemplo de optimizacion bayesiana, univariada\n",
    "\n",
    "#limpio la memoria\n",
    "rm( list=ls() )  #remove all objects\n",
    "gc()             #garbage collection\n",
    "\n",
    "require(\"data.table\")\n",
    "#paquetes necesarios para la Bayesian Optimization\n",
    "require(\"DiceKriging\")\n",
    "require(\"mlrMBO\")\n",
    "\n",
    "options(repr.plot.width=20, repr.plot.height=10)"
   ]
  },
  {
   "cell_type": "markdown",
   "metadata": {},
   "source": [
    "### Defino la funcion a optimizar, un polinomio de grado 4"
   ]
  },
  {
   "cell_type": "code",
   "execution_count": 3,
   "metadata": {
    "tags": [],
    "vscode": {
     "languageId": "r"
    }
   },
   "outputs": [],
   "source": [
    "func_univariada01  <- function( x )\n",
    "{\n",
    "  y  <- -2 * (x+13) * (x-3) * (x-7) * (x-19)\n",
    "\n",
    "  return( y )\n",
    "}"
   ]
  },
  {
   "cell_type": "markdown",
   "metadata": {},
   "source": [
    "Grafico la funcion"
   ]
  },
  {
   "cell_type": "code",
   "execution_count": 4,
   "metadata": {
    "tags": [],
    "vscode": {
     "languageId": "r"
    }
   },
   "outputs": [
    {
     "data": {
      "image/png": "[encoded data removed]",
      "text/plain": [
       "plot without title"
      ]
     },
     "metadata": {
      "image/png": {
       "height": 600,
       "width": 1200
      }
     },
     "output_type": "display_data"
    }
   ],
   "source": [
    "intervalo  <- seq(-15,21,0.1)\n",
    "plot(intervalo, func_univariada01(intervalo))"
   ]
  },
  {
   "cell_type": "markdown",
   "metadata": {},
   "source": [
    "La funcion tiene dos máximos, uno de ellos es el global."
   ]
  },
  {
   "cell_type": "markdown",
   "metadata": {},
   "source": [
    "### Optimizacion Bayesiana"
   ]
  },
  {
   "cell_type": "markdown",
   "metadata": {},
   "source": [
    "¿Qué tan rápido encontrará la Optmización Bayesiana el máximo global?"
   ]
  },
  {
   "cell_type": "markdown",
   "metadata": {},
   "source": [
    "Defino las caracteristicas de la optimizacion"
   ]
  },
  {
   "cell_type": "markdown",
   "metadata": {},
   "source": [
    "* **fn**    es el nombre de la funcion\n",
    "* **minimize**   por defecto es TRUE,  pero en este caso le asigno FALSE, ya que deseo maximizar  el valor\n",
    "* **par.set**  indica cuales son los hiperparmetros de la funcion, en este caso hay una sola variable que llamé  x\n",
    "---\n",
    "* **makeNumericParam** indica que ese hiperparámetro es un numero real, una variable continua  ( no es ni un entero ni una categoria )"
   ]
  },
  {
   "cell_type": "code",
   "execution_count": 5,
   "metadata": {
    "tags": [],
    "vscode": {
     "languageId": "r"
    }
   },
   "outputs": [],
   "source": [
    "obj.fun  <- makeSingleObjectiveFunction(\n",
    "              fn=       func_univariada01,\n",
    "              minimize= FALSE,   #estoy Maximizando la ganancia\n",
    "              par.set=  makeParamSet(  makeNumericParam( \"x\", lower= -100, upper=  100) ),\n",
    "             )"
   ]
  },
  {
   "cell_type": "markdown",
   "metadata": {},
   "source": [
    "ahora defino la funcion proxy, la que se construye internamente intentando emular la realidad"
   ]
  },
  {
   "cell_type": "markdown",
   "metadata": {},
   "source": [
    "* **cl**  es la clase de learner,  \"reg.km\" indica el método de kriging \"**reg**ression **k**riging **m**ethodd\"\n",
    "* **predict.type**  es el tipo de prediccion que deseo me devuelva, \"se\" significa que espero dos valores  media y standard error\n",
    "* **covtype**    es la funcion de covarianza que se va a utilizar, cual es la covarianza de dos mediciones como fucion de la distancia entre los puntos donde fueron tomadas las mediciones, fue inventada por Bertil Matérn "
   ]
  },
  {
   "cell_type": "markdown",
   "metadata": {},
   "source": [
    "El método de kriging puede verse en su forma original (la geología) , esta presentación https://www.youtube.com/watch?v=ZB7GvJrNKq0"
   ]
  },
  {
   "cell_type": "code",
   "execution_count": 6,
   "metadata": {
    "tags": [],
    "vscode": {
     "languageId": "r"
    }
   },
   "outputs": [],
   "source": [
    "fproxy  <- makeLearner( cl= \"regr.km\",\n",
    "                        predict.type= \"se\", \n",
    "                        covtype= \"matern3_2\" )"
   ]
  },
  {
   "cell_type": "markdown",
   "metadata": {},
   "source": [
    "ultima definicion,  especificar la optimizacion bayesiana\n",
    "*  **crit**   indica el criterio con el que se completan los valores iniciales \"no inteligentes\"\n",
    "*  **iters**  indica la cantidad de iteraciones inteligentes que hará la Optimizacion Bayesiana, las que son adicionales a las primeras cuatro de este caso.*  **iters**  indica la cantidad de iteraciones inteligentes que hará la Optimizacion Bayesiana, las que son adicionales a las primeras cuatro de este caso."
   ]
  },
  {
   "cell_type": "code",
   "execution_count": 7,
   "metadata": {
    "tags": [],
    "vscode": {
     "languageId": "r"
    }
   },
   "outputs": [],
   "source": [
    "ctrl  <- makeMBOControl()\n",
    "ctrl  <- setMBOControlInfill( ctrl, crit= makeMBOInfillCritEI())\n",
    "ctrl  <- setMBOControlTermination( ctrl, iters= 25 )"
   ]
  },
  {
   "cell_type": "markdown",
   "metadata": {},
   "source": [
    "finalmente , lanzo la Optimizacion Bayesiana"
   ]
  },
  {
   "cell_type": "markdown",
   "metadata": {},
   "source": [
    "* **fun**  es la especificacion de la funcion que deseo optimizar, si maximizo o minimizo, cuales son las variables de la misma\n",
    "* **learner**  especifica cual es la función proxy interna que va a utilizar la Optimziación Bayesiana\n",
    "* **control**  indica la la forma en que se harán las iteraciones"
   ]
  },
  {
   "cell_type": "code",
   "execution_count": 8,
   "metadata": {
    "tags": [],
    "vscode": {
     "languageId": "r"
    }
   },
   "outputs": [
    {
     "name": "stderr",
     "output_type": "stream",
     "text": [
      "Computing y column(s) for design. Not provided.\n",
      "\n",
      "[mbo] 0: x=88.1 : y = -9.65e+07 : 0.0 secs : initdesign\n",
      "\n",
      "[mbo] 0: x=-48.1 : y = -1.33e+07 : 0.0 secs : initdesign\n",
      "\n",
      "[mbo] 0: x=10.7 : y = 1.13e+04 : 0.0 secs : initdesign\n",
      "\n",
      "[mbo] 0: x=-68.4 : y = -5.23e+07 : 0.0 secs : initdesign\n",
      "\n"
     ]
    },
    {
     "name": "stdout",
     "output_type": "stream",
     "text": [
      "\n",
      "optimisation start\n",
      "------------------\n",
      "* estimation method   : MLE \n",
      "* optimisation method : BFGS \n",
      "* analytical gradient : used\n",
      "* trend model : ~1\n",
      "* covariance model : \n",
      "  - type :  matern3_2 \n",
      "  - nugget : NO\n",
      "  - parameters lower bounds :  1e-10 \n",
      "  - parameters upper bounds :  313.1122 \n",
      "  - best initial criterion value(s) :  -75.4649 \n",
      "\n",
      "N = 1, M = 5 machine precision = 2.22045e-16\n",
      "At X0, 0 variables are exactly at the bounds\n",
      "At iterate     0  f=       75.465  |proj g|=    0.0062922\n",
      "At iterate     1  f =       75.465  |proj g|=     0.0062909\n",
      "At iterate     2  f =       75.445  |proj g|=             0\n",
      "\n",
      "iterations 2\n",
      "function evaluations 3\n",
      "segments explored during Cauchy searches 2\n",
      "BFGS updates skipped 0\n",
      "active bounds at final generalized Cauchy point 1\n",
      "norm of the final projected gradient 0\n",
      "final function value 75.4451\n",
      "\n",
      "F = 75.4451\n",
      "final  value 75.445133 \n",
      "converged\n"
     ]
    },
    {
     "name": "stderr",
     "output_type": "stream",
     "text": [
      "[mbo] 1: x=-45.6 : y = -1.07e+07 : 0.0 secs : infill_ei\n",
      "\n"
     ]
    },
    {
     "name": "stdout",
     "output_type": "stream",
     "text": [
      "\n",
      "optimisation start\n",
      "------------------\n",
      "* estimation method   : MLE \n",
      "* optimisation method : BFGS \n",
      "* analytical gradient : used\n",
      "* trend model : ~1\n",
      "* covariance model : \n",
      "  - type :  matern3_2 \n",
      "  - nugget : NO\n",
      "  - parameters lower bounds :  1e-10 \n",
      "  - parameters upper bounds :  313.1122 \n",
      "  - best initial criterion value(s) :  -91.62121 \n",
      "\n",
      "N = 1, M = 5 machine precision = 2.22045e-16\n",
      "At X0, 0 variables are exactly at the bounds\n",
      "At iterate     0  f=       91.621  |proj g|=    0.0025368\n",
      "At iterate     1  f =       91.621  |proj g|=     0.0025353\n",
      "At iterate     2  f =       91.616  |proj g|=     0.0003744\n",
      "At iterate     3  f =       91.616  |proj g|=    4.4833e-05\n",
      "At iterate     4  f =       91.616  |proj g|=    6.7478e-07\n",
      "At iterate     5  f =       91.616  |proj g|=    1.2431e-09\n",
      "\n",
      "iterations 5\n",
      "function evaluations 6\n",
      "segments explored during Cauchy searches 5\n",
      "BFGS updates skipped 0\n",
      "active bounds at final generalized Cauchy point 0\n",
      "norm of the final projected gradient 1.24311e-09\n",
      "final function value 91.6159\n",
      "\n",
      "F = 91.6159\n",
      "final  value 91.615930 \n",
      "converged\n"
     ]
    },
    {
     "name": "stderr",
     "output_type": "stream",
     "text": [
      "[mbo] 2: x=-11.1 : y = 2.9e+04 : 0.0 secs : infill_ei\n",
      "\n"
     ]
    },
    {
     "name": "stdout",
     "output_type": "stream",
     "text": [
      "\n",
      "optimisation start\n",
      "------------------\n",
      "* estimation method   : MLE \n",
      "* optimisation method : BFGS \n",
      "* analytical gradient : used\n",
      "* trend model : ~1\n",
      "* covariance model : \n",
      "  - type :  matern3_2 \n",
      "  - nugget : NO\n",
      "  - parameters lower bounds :  1e-10 \n",
      "  - parameters upper bounds :  313.1122 \n",
      "  - best initial criterion value(s) :  -109.1415 \n",
      "\n",
      "N = 1, M = 5 machine precision = 2.22045e-16\n",
      "At X0, 0 variables are exactly at the bounds\n",
      "At iterate     0  f=       109.14  |proj g|=     0.002754\n",
      "At iterate     1  f =       109.14  |proj g|=      0.002753\n",
      "At iterate     2  f =       109.13  |proj g|=    0.00073105\n",
      "At iterate     3  f =       109.13  |proj g|=    0.00013661\n",
      "At iterate     4  f =       109.13  |proj g|=    5.4365e-06\n",
      "At iterate     5  f =       109.13  |proj g|=    4.2671e-08\n",
      "\n",
      "iterations 5\n",
      "function evaluations 6\n",
      "segments explored during Cauchy searches 5\n",
      "BFGS updates skipped 0\n",
      "active bounds at final generalized Cauchy point 0\n",
      "norm of the final projected gradient 4.26711e-08\n",
      "final function value 109.132\n",
      "\n",
      "F = 109.132\n",
      "final  value 109.132253 \n",
      "converged\n"
     ]
    },
    {
     "name": "stderr",
     "output_type": "stream",
     "text": [
      "[mbo] 3: x=0.891 : y = 6.48e+03 : 0.0 secs : infill_ei\n",
      "\n"
     ]
    },
    {
     "name": "stdout",
     "output_type": "stream",
     "text": [
      "\n",
      "optimisation start\n",
      "------------------\n",
      "* estimation method   : MLE \n",
      "* optimisation method : BFGS \n",
      "* analytical gradient : used\n",
      "* trend model : ~1\n",
      "* covariance model : \n",
      "  - type :  matern3_2 \n",
      "  - nugget : NO\n",
      "  - parameters lower bounds :  1e-10 \n",
      "  - parameters upper bounds :  313.1122 \n",
      "  - best initial criterion value(s) :  -125.3806 \n",
      "\n",
      "N = 1, M = 5 machine precision = 2.22045e-16\n",
      "At X0, 0 variables are exactly at the bounds\n",
      "At iterate     0  f=       125.38  |proj g|=    0.0025063\n",
      "At iterate     1  f =       125.38  |proj g|=     0.0025059\n",
      "At iterate     2  f =       125.37  |proj g|=     0.0010881\n",
      "At iterate     3  f =       125.37  |proj g|=    0.00027155\n",
      "At iterate     4  f =       125.37  |proj g|=    2.2538e-05\n",
      "At iterate     5  f =       125.37  |proj g|=    5.2202e-07\n",
      "At iterate     6  f =       125.37  |proj g|=    9.7466e-10\n",
      "\n",
      "iterations 6\n",
      "function evaluations 7\n",
      "segments explored during Cauchy searches 6\n",
      "BFGS updates skipped 0\n",
      "active bounds at final generalized Cauchy point 0\n",
      "norm of the final projected gradient 9.74662e-10\n",
      "final function value 125.365\n",
      "\n",
      "F = 125.365\n",
      "final  value 125.365219 \n",
      "converged\n"
     ]
    },
    {
     "name": "stderr",
     "output_type": "stream",
     "text": [
      "[mbo] 4: x=-23.8 : y = -7.66e+05 : 0.0 secs : infill_ei\n",
      "\n"
     ]
    },
    {
     "name": "stdout",
     "output_type": "stream",
     "text": [
      "\n",
      "optimisation start\n",
      "------------------\n",
      "* estimation method   : MLE \n",
      "* optimisation method : BFGS \n",
      "* analytical gradient : used\n",
      "* trend model : ~1\n",
      "* covariance model : \n",
      "  - type :  matern3_2 \n",
      "  - nugget : NO\n",
      "  - parameters lower bounds :  1e-10 \n",
      "  - parameters upper bounds :  313.1122 \n",
      "  - best initial criterion value(s) :  -141.5905 \n",
      "\n",
      "N = 1, M = 5 machine precision = 2.22045e-16\n",
      "At X0, 0 variables are exactly at the bounds\n",
      "At iterate     0  f=       141.59  |proj g|=    0.0011334\n",
      "At iterate     1  f =       141.59  |proj g|=     0.0011332\n",
      "At iterate     2  f =       141.59  |proj g|=    0.00010799\n",
      "At iterate     3  f =       141.59  |proj g|=    1.1558e-05\n",
      "At iterate     4  f =       141.59  |proj g|=    1.3568e-07\n",
      "At iterate     5  f =       141.59  |proj g|=    1.7301e-10\n",
      "\n",
      "iterations 5\n",
      "function evaluations 6\n",
      "segments explored during Cauchy searches 5\n",
      "BFGS updates skipped 0\n",
      "active bounds at final generalized Cauchy point 0\n",
      "norm of the final projected gradient 1.73013e-10\n",
      "final function value 141.587\n",
      "\n",
      "F = 141.587\n",
      "final  value 141.587160 \n",
      "converged\n"
     ]
    },
    {
     "name": "stderr",
     "output_type": "stream",
     "text": [
      "[mbo] 5: x=6.4 : y = -994 : 0.0 secs : infill_ei\n",
      "\n"
     ]
    },
    {
     "name": "stdout",
     "output_type": "stream",
     "text": [
      "\n",
      "optimisation start\n",
      "------------------\n",
      "* estimation method   : MLE \n",
      "* optimisation method : BFGS \n",
      "* analytical gradient : used\n",
      "* trend model : ~1\n",
      "* covariance model : \n",
      "  - type :  matern3_2 \n",
      "  - nugget : NO\n",
      "  - parameters lower bounds :  1e-10 \n",
      "  - parameters upper bounds :  313.1122 \n",
      "  - best initial criterion value(s) :  -156.255 \n",
      "\n",
      "N = 1, M = 5 machine precision = 2.22045e-16\n",
      "At X0, 0 variables are exactly at the bounds\n",
      "At iterate     0  f=       156.25  |proj g|=   0.00028219\n",
      "At iterate     1  f =       156.25  |proj g|=    0.00028216\n",
      "\n",
      "iterations 1\n",
      "function evaluations 2\n",
      "segments explored during Cauchy searches 1\n",
      "BFGS updates skipped 0\n",
      "active bounds at final generalized Cauchy point 0\n",
      "norm of the final projected gradient 0.000282165\n",
      "final function value 156.255\n",
      "\n",
      "F = 156.255\n",
      "final  value 156.254994 \n",
      "converged\n"
     ]
    },
    {
     "name": "stderr",
     "output_type": "stream",
     "text": [
      "[mbo] 6: x=-5.39 : y = 3.86e+04 : 0.0 secs : infill_ei\n",
      "\n"
     ]
    },
    {
     "name": "stdout",
     "output_type": "stream",
     "text": [
      "\n",
      "optimisation start\n",
      "------------------\n",
      "* estimation method   : MLE \n",
      "* optimisation method : BFGS \n",
      "* analytical gradient : used\n",
      "* trend model : ~1\n",
      "* covariance model : \n",
      "  - type :  matern3_2 \n",
      "  - nugget : NO\n",
      "  - parameters lower bounds :  1e-10 \n",
      "  - parameters upper bounds :  313.1122 \n",
      "  - best initial criterion value(s) :  -170.8453 \n",
      "\n",
      "N = 1, M = 5 machine precision = 2.22045e-16\n",
      "At X0, 0 variables are exactly at the bounds\n",
      "At iterate     0  f=       170.85  |proj g|=   0.00026459\n",
      "At iterate     1  f =       170.85  |proj g|=    0.00026457\n",
      "\n",
      "iterations 1\n",
      "function evaluations 2\n",
      "segments explored during Cauchy searches 1\n",
      "BFGS updates skipped 0\n",
      "active bounds at final generalized Cauchy point 0\n",
      "norm of the final projected gradient 0.000264572\n",
      "final function value 170.845\n",
      "\n",
      "F = 170.845\n",
      "final  value 170.845301 \n",
      "converged\n"
     ]
    },
    {
     "name": "stderr",
     "output_type": "stream",
     "text": [
      "[mbo] 7: x=-16.7 : y = -1.25e+05 : 0.0 secs : infill_ei\n",
      "\n"
     ]
    },
    {
     "name": "stdout",
     "output_type": "stream",
     "text": [
      "\n",
      "optimisation start\n",
      "------------------\n",
      "* estimation method   : MLE \n",
      "* optimisation method : BFGS \n",
      "* analytical gradient : used\n",
      "* trend model : ~1\n",
      "* covariance model : \n",
      "  - type :  matern3_2 \n",
      "  - nugget : NO\n",
      "  - parameters lower bounds :  1e-10 \n",
      "  - parameters upper bounds :  313.1122 \n",
      "  - best initial criterion value(s) :  -185.4087 \n",
      "\n",
      "N = 1, M = 5 machine precision = 2.22045e-16\n",
      "At X0, 0 variables are exactly at the bounds\n",
      "At iterate     0  f=       185.41  |proj g|=   0.00040214\n",
      "At iterate     1  f =       185.41  |proj g|=    0.00040213\n",
      "\n",
      "iterations 1\n",
      "function evaluations 2\n",
      "segments explored during Cauchy searches 1\n",
      "BFGS updates skipped 0\n",
      "active bounds at final generalized Cauchy point 0\n",
      "norm of the final projected gradient 0.000402126\n",
      "final function value 185.409\n",
      "\n",
      "F = 185.409\n",
      "final  value 185.408650 \n",
      "converged\n"
     ]
    },
    {
     "name": "stderr",
     "output_type": "stream",
     "text": [
      "[mbo] 8: x=20.7 : y = -2.71e+04 : 0.0 secs : infill_ei\n",
      "\n"
     ]
    },
    {
     "name": "stdout",
     "output_type": "stream",
     "text": [
      "\n",
      "optimisation start\n",
      "------------------\n",
      "* estimation method   : MLE \n",
      "* optimisation method : BFGS \n",
      "* analytical gradient : used\n",
      "* trend model : ~1\n",
      "* covariance model : \n",
      "  - type :  matern3_2 \n",
      "  - nugget : NO\n",
      "  - parameters lower bounds :  1e-10 \n",
      "  - parameters upper bounds :  313.1122 \n",
      "  - best initial criterion value(s) :  -201.8673 \n",
      "\n",
      "N = 1, M = 5 machine precision = 2.22045e-16\n",
      "At X0, 0 variables are exactly at the bounds\n",
      "At iterate     0  f=       201.87  |proj g|=    0.0006474\n",
      "At iterate     1  f =       201.87  |proj g|=    0.00064738\n",
      "\n",
      "iterations 1\n",
      "function evaluations 2\n",
      "segments explored during Cauchy searches 1\n",
      "BFGS updates skipped 0\n",
      "active bounds at final generalized Cauchy point 0\n",
      "norm of the final projected gradient 0.000647376\n",
      "final function value 201.867\n",
      "\n",
      "F = 201.867\n",
      "final  value 201.867285 \n",
      "converged\n"
     ]
    },
    {
     "name": "stderr",
     "output_type": "stream",
     "text": [
      "[mbo] 9: x=16.5 : y = 1.88e+04 : 0.0 secs : infill_ei\n",
      "\n"
     ]
    },
    {
     "name": "stdout",
     "output_type": "stream",
     "text": [
      "\n",
      "optimisation start\n",
      "------------------\n",
      "* estimation method   : MLE \n",
      "* optimisation method : BFGS \n",
      "* analytical gradient : used\n",
      "* trend model : ~1\n",
      "* covariance model : \n",
      "  - type :  matern3_2 \n",
      "  - nugget : NO\n",
      "  - parameters lower bounds :  1e-10 \n",
      "  - parameters upper bounds :  313.1122 \n",
      "  - best initial criterion value(s) :  -216.1668 \n",
      "\n",
      "N = 1, M = 5 machine precision = 2.22045e-16\n",
      "At X0, 0 variables are exactly at the bounds\n",
      "At iterate     0  f=       216.17  |proj g|=   0.00051266\n",
      "At iterate     1  f =       216.17  |proj g|=    0.00051264\n",
      "\n",
      "iterations 1\n",
      "function evaluations 2\n",
      "segments explored during Cauchy searches 1\n",
      "BFGS updates skipped 0\n",
      "active bounds at final generalized Cauchy point 0\n",
      "norm of the final projected gradient 0.000512641\n",
      "final function value 216.167\n",
      "\n",
      "F = 216.167\n",
      "final  value 216.166760 \n",
      "converged\n"
     ]
    },
    {
     "name": "stderr",
     "output_type": "stream",
     "text": [
      "[mbo] 10: x=-2.37 : y = 2.28e+04 : 0.0 secs : infill_ei\n",
      "\n"
     ]
    },
    {
     "name": "stdout",
     "output_type": "stream",
     "text": [
      "\n",
      "optimisation start\n",
      "------------------\n",
      "* estimation method   : MLE \n",
      "* optimisation method : BFGS \n",
      "* analytical gradient : used\n",
      "* trend model : ~1\n",
      "* covariance model : \n",
      "  - type :  matern3_2 \n",
      "  - nugget : NO\n",
      "  - parameters lower bounds :  1e-10 \n",
      "  - parameters upper bounds :  313.1122 \n",
      "  - best initial criterion value(s) :  -229.5537 \n",
      "\n",
      "N = 1, M = 5 machine precision = 2.22045e-16\n",
      "At X0, 0 variables are exactly at the bounds\n",
      "At iterate     0  f=       229.55  |proj g|=   8.3091e-05\n",
      "At iterate     1  f =       229.55  |proj g|=    8.3089e-05\n",
      "\n",
      "iterations 1\n",
      "function evaluations 2\n",
      "segments explored during Cauchy searches 1\n",
      "BFGS updates skipped 0\n",
      "active bounds at final generalized Cauchy point 0\n",
      "norm of the final projected gradient 8.30885e-05\n",
      "final function value 229.554\n",
      "\n",
      "F = 229.554\n",
      "final  value 229.553683 \n",
      "converged\n"
     ]
    },
    {
     "name": "stderr",
     "output_type": "stream",
     "text": [
      "[mbo] 11: x=-8.32 : y = 4.44e+04 : 0.0 secs : infill_ei\n",
      "\n"
     ]
    },
    {
     "name": "stdout",
     "output_type": "stream",
     "text": [
      "\n",
      "optimisation start\n",
      "------------------\n",
      "* estimation method   : MLE \n",
      "* optimisation method : BFGS \n",
      "* analytical gradient : used\n",
      "* trend model : ~1\n",
      "* covariance model : \n",
      "  - type :  matern3_2 \n",
      "  - nugget : NO\n",
      "  - parameters lower bounds :  1e-10 \n",
      "  - parameters upper bounds :  313.1122 \n",
      "  - best initial criterion value(s) :  -242.7149 \n",
      "\n",
      "N = 1, M = 5 machine precision = 2.22045e-16\n",
      "At X0, 0 variables are exactly at the bounds\n",
      "At iterate     0  f=       242.71  |proj g|=   3.6406e-06\n",
      "At iterate     1  f =       242.71  |proj g|=    3.6405e-06\n",
      "\n",
      "iterations 1\n",
      "function evaluations 2\n",
      "segments explored during Cauchy searches 1\n",
      "BFGS updates skipped 0\n",
      "active bounds at final generalized Cauchy point 0\n",
      "norm of the final projected gradient 3.64054e-06\n",
      "final function value 242.715\n",
      "\n",
      "F = 242.715\n",
      "final  value 242.714864 \n",
      "converged\n"
     ]
    },
    {
     "name": "stderr",
     "output_type": "stream",
     "text": [
      "[mbo] 12: x=18.7 : y = 3.46e+03 : 0.0 secs : infill_ei\n",
      "\n"
     ]
    },
    {
     "name": "stdout",
     "output_type": "stream",
     "text": [
      "\n",
      "optimisation start\n",
      "------------------\n",
      "* estimation method   : MLE \n",
      "* optimisation method : BFGS \n",
      "* analytical gradient : used\n",
      "* trend model : ~1\n",
      "* covariance model : \n",
      "  - type :  matern3_2 \n",
      "  - nugget : NO\n",
      "  - parameters lower bounds :  1e-10 \n",
      "  - parameters upper bounds :  313.1122 \n",
      "  - best initial criterion value(s) :  -255.6266 \n",
      "\n",
      "N = 1, M = 5 machine precision = 2.22045e-16\n",
      "At X0, 0 variables are exactly at the bounds\n",
      "At iterate     0  f=       255.63  |proj g|=   0.00072858\n",
      "At iterate     1  f =       255.63  |proj g|=    0.00072856\n",
      "\n",
      "iterations 1\n",
      "function evaluations 2\n",
      "segments explored during Cauchy searches 1\n",
      "BFGS updates skipped 0\n",
      "active bounds at final generalized Cauchy point 0\n",
      "norm of the final projected gradient 0.000728557\n",
      "final function value 255.627\n",
      "\n",
      "F = 255.627\n",
      "final  value 255.626565 \n",
      "converged\n"
     ]
    },
    {
     "name": "stderr",
     "output_type": "stream",
     "text": [
      "[mbo] 13: x=13.6 : y = 2.01e+04 : 0.0 secs : infill_ei\n",
      "\n"
     ]
    },
    {
     "name": "stdout",
     "output_type": "stream",
     "text": [
      "\n",
      "optimisation start\n",
      "------------------\n",
      "* estimation method   : MLE \n",
      "* optimisation method : BFGS \n",
      "* analytical gradient : used\n",
      "* trend model : ~1\n",
      "* covariance model : \n",
      "  - type :  matern3_2 \n",
      "  - nugget : NO\n",
      "  - parameters lower bounds :  1e-10 \n",
      "  - parameters upper bounds :  313.1122 \n",
      "  - best initial criterion value(s) :  -268.6755 \n",
      "\n",
      "N = 1, M = 5 machine precision = 2.22045e-16\n",
      "At X0, 0 variables are exactly at the bounds\n",
      "At iterate     0  f=       268.68  |proj g|=   0.00088467\n",
      "At iterate     1  f =       268.68  |proj g|=    0.00088465\n",
      "At iterate     2  f =       268.67  |proj g|=             0\n",
      "\n",
      "iterations 2\n",
      "function evaluations 3\n",
      "segments explored during Cauchy searches 2\n",
      "BFGS updates skipped 0\n",
      "active bounds at final generalized Cauchy point 1\n",
      "norm of the final projected gradient 0\n",
      "final function value 268.671\n",
      "\n",
      "F = 268.671\n",
      "final  value 268.670925 \n",
      "converged\n"
     ]
    },
    {
     "name": "stderr",
     "output_type": "stream",
     "text": [
      "[mbo] 14: x=3.65 : y = -1.11e+03 : 0.0 secs : infill_ei\n",
      "\n"
     ]
    },
    {
     "name": "stdout",
     "output_type": "stream",
     "text": [
      "\n",
      "optimisation start\n",
      "------------------\n",
      "* estimation method   : MLE \n",
      "* optimisation method : BFGS \n",
      "* analytical gradient : used\n",
      "* trend model : ~1\n",
      "* covariance model : \n",
      "  - type :  matern3_2 \n",
      "  - nugget : NO\n",
      "  - parameters lower bounds :  1e-10 \n",
      "  - parameters upper bounds :  313.1122 \n",
      "  - best initial criterion value(s) :  -281.6682 \n",
      "\n",
      "N = 1, M = 5 machine precision = 2.22045e-16\n",
      "At X0, 0 variables are exactly at the bounds\n",
      "At iterate     0  f=       281.67  |proj g|=    0.0016384\n",
      "At iterate     1  f =       281.67  |proj g|=     0.0016383\n",
      "At iterate     2  f =       281.65  |proj g|=             0\n",
      "\n",
      "iterations 2\n",
      "function evaluations 3\n",
      "segments explored during Cauchy searches 2\n",
      "BFGS updates skipped 0\n",
      "active bounds at final generalized Cauchy point 1\n",
      "norm of the final projected gradient 0\n",
      "final function value 281.652\n",
      "\n",
      "F = 281.652\n",
      "final  value 281.651580 \n",
      "converged\n"
     ]
    },
    {
     "name": "stderr",
     "output_type": "stream",
     "text": [
      "[mbo] 15: x=-13.6 : y = -1.3e+04 : 0.0 secs : infill_ei\n",
      "\n"
     ]
    },
    {
     "name": "stdout",
     "output_type": "stream",
     "text": [
      "\n",
      "optimisation start\n",
      "------------------\n",
      "* estimation method   : MLE \n",
      "* optimisation method : BFGS \n",
      "* analytical gradient : used\n",
      "* trend model : ~1\n",
      "* covariance model : \n",
      "  - type :  matern3_2 \n",
      "  - nugget : NO\n",
      "  - parameters lower bounds :  1e-10 \n",
      "  - parameters upper bounds :  313.1122 \n",
      "  - best initial criterion value(s) :  -294.7073 \n",
      "\n",
      "N = 1, M = 5 machine precision = 2.22045e-16\n",
      "At X0, 0 variables are exactly at the bounds\n",
      "At iterate     0  f=       294.71  |proj g|=    0.0029722\n",
      "At iterate     1  f =       294.71  |proj g|=      0.002972\n",
      "At iterate     2  f =       294.64  |proj g|=             0\n",
      "\n",
      "iterations 2\n",
      "function evaluations 3\n",
      "segments explored during Cauchy searches 2\n",
      "BFGS updates skipped 0\n",
      "active bounds at final generalized Cauchy point 1\n",
      "norm of the final projected gradient 0\n",
      "final function value 294.637\n",
      "\n",
      "F = 294.637\n",
      "final  value 294.636975 \n",
      "converged\n"
     ]
    },
    {
     "name": "stderr",
     "output_type": "stream",
     "text": [
      "[mbo] 16: x=26.5 : y = -2.74e+05 : 0.0 secs : infill_ei\n",
      "\n"
     ]
    },
    {
     "name": "stdout",
     "output_type": "stream",
     "text": [
      "\n",
      "optimisation start\n",
      "------------------\n",
      "* estimation method   : MLE \n",
      "* optimisation method : BFGS \n",
      "* analytical gradient : used\n",
      "* trend model : ~1\n",
      "* covariance model : \n",
      "  - type :  matern3_2 \n",
      "  - nugget : NO\n",
      "  - parameters lower bounds :  1e-10 \n",
      "  - parameters upper bounds :  313.1122 \n",
      "  - best initial criterion value(s) :  -310.2067 \n",
      "\n",
      "N = 1, M = 5 machine precision = 2.22045e-16\n",
      "At X0, 0 variables are exactly at the bounds\n",
      "At iterate     0  f=       310.21  |proj g|=    0.0034611\n",
      "At iterate     1  f =       310.21  |proj g|=     0.0034609\n",
      "At iterate     2  f =       310.13  |proj g|=             0\n",
      "\n",
      "iterations 2\n",
      "function evaluations 3\n",
      "segments explored during Cauchy searches 2\n",
      "BFGS updates skipped 0\n",
      "active bounds at final generalized Cauchy point 1\n",
      "norm of the final projected gradient 0\n",
      "final function value 310.126\n",
      "\n",
      "F = 310.126\n",
      "final  value 310.125732 \n",
      "converged\n"
     ]
    },
    {
     "name": "stderr",
     "output_type": "stream",
     "text": [
      "[mbo] 17: x=23.6 : y = -1.15e+05 : 0.0 secs : infill_ei\n",
      "\n"
     ]
    },
    {
     "name": "stdout",
     "output_type": "stream",
     "text": [
      "\n",
      "optimisation start\n",
      "------------------\n",
      "* estimation method   : MLE \n",
      "* optimisation method : BFGS \n",
      "* analytical gradient : used\n",
      "* trend model : ~1\n",
      "* covariance model : \n",
      "  - type :  matern3_2 \n",
      "  - nugget : NO\n",
      "  - parameters lower bounds :  1e-10 \n",
      "  - parameters upper bounds :  313.1122 \n",
      "  - best initial criterion value(s) :  -323.4019 \n",
      "\n",
      "N = 1, M = 5 machine precision = 2.22045e-16\n",
      "At X0, 0 variables are exactly at the bounds\n",
      "At iterate     0  f=        323.4  |proj g|=     0.003609\n",
      "At iterate     1  f =        323.4  |proj g|=     0.0036089\n",
      "At iterate     2  f =       323.34  |proj g|=             0\n",
      "\n",
      "iterations 2\n",
      "function evaluations 3\n",
      "segments explored during Cauchy searches 2\n",
      "BFGS updates skipped 0\n",
      "active bounds at final generalized Cauchy point 1\n",
      "norm of the final projected gradient 0\n",
      "final function value 323.343\n",
      "\n",
      "F = 323.343\n",
      "final  value 323.342795 \n",
      "converged\n"
     ]
    },
    {
     "name": "stderr",
     "output_type": "stream",
     "text": [
      "[mbo] 18: x=8.62 : y = 4.1e+03 : 0.0 secs : infill_ei\n",
      "\n"
     ]
    },
    {
     "name": "stdout",
     "output_type": "stream",
     "text": [
      "\n",
      "optimisation start\n",
      "------------------\n",
      "* estimation method   : MLE \n",
      "* optimisation method : BFGS \n",
      "* analytical gradient : used\n",
      "* trend model : ~1\n",
      "* covariance model : \n",
      "  - type :  matern3_2 \n",
      "  - nugget : NO\n",
      "  - parameters lower bounds :  1e-10 \n",
      "  - parameters upper bounds :  313.1122 \n",
      "  - best initial criterion value(s) :  -336.1079 \n",
      "\n",
      "N = 1, M = 5 machine precision = 2.22045e-16\n",
      "At X0, 0 variables are exactly at the bounds\n",
      "At iterate     0  f=       336.11  |proj g|=    0.0060137\n",
      "At iterate     1  f =       336.11  |proj g|=     0.0060133\n",
      "At iterate     2  f =       335.89  |proj g|=             0\n",
      "\n",
      "iterations 2\n",
      "function evaluations 3\n",
      "segments explored during Cauchy searches 2\n",
      "BFGS updates skipped 0\n",
      "active bounds at final generalized Cauchy point 1\n",
      "norm of the final projected gradient 0\n",
      "final function value 335.889\n",
      "\n",
      "F = 335.889\n",
      "final  value 335.889492 \n",
      "converged\n"
     ]
    },
    {
     "name": "stderr",
     "output_type": "stream",
     "text": [
      "[mbo] 19: x=-6.89 : y = 4.35e+04 : 0.0 secs : infill_ei\n",
      "\n"
     ]
    },
    {
     "name": "stdout",
     "output_type": "stream",
     "text": [
      "\n",
      "optimisation start\n",
      "------------------\n",
      "* estimation method   : MLE \n",
      "* optimisation method : BFGS \n",
      "* analytical gradient : used\n",
      "* trend model : ~1\n",
      "* covariance model : \n",
      "  - type :  matern3_2 \n",
      "  - nugget : NO\n",
      "  - parameters lower bounds :  1e-10 \n",
      "  - parameters upper bounds :  313.1122 \n",
      "  - best initial criterion value(s) :  -348.018 \n",
      "\n",
      "N = 1, M = 5 machine precision = 2.22045e-16\n",
      "At X0, 0 variables are exactly at the bounds\n",
      "At iterate     0  f=       348.02  |proj g|=    0.0053141\n",
      "At iterate     1  f =       348.02  |proj g|=     0.0053138\n",
      "At iterate     2  f =        347.9  |proj g|=             0\n",
      "\n",
      "iterations 2\n",
      "function evaluations 3\n",
      "segments explored during Cauchy searches 2\n",
      "BFGS updates skipped 0\n",
      "active bounds at final generalized Cauchy point 1\n",
      "norm of the final projected gradient 0\n",
      "final function value 347.897\n",
      "\n",
      "F = 347.897\n",
      "final  value 347.896587 \n",
      "converged\n"
     ]
    },
    {
     "name": "stderr",
     "output_type": "stream",
     "text": [
      "[mbo] 20: x=-9.66 : y = 4.04e+04 : 0.0 secs : infill_ei\n",
      "\n"
     ]
    },
    {
     "name": "stdout",
     "output_type": "stream",
     "text": [
      "\n",
      "optimisation start\n",
      "------------------\n",
      "* estimation method   : MLE \n",
      "* optimisation method : BFGS \n",
      "* analytical gradient : used\n",
      "* trend model : ~1\n",
      "* covariance model : \n",
      "  - type :  matern3_2 \n",
      "  - nugget : NO\n",
      "  - parameters lower bounds :  1e-10 \n",
      "  - parameters upper bounds :  313.1122 \n",
      "  - best initial criterion value(s) :  -360.0459 \n",
      "\n",
      "N = 1, M = 5 machine precision = 2.22045e-16\n",
      "At X0, 0 variables are exactly at the bounds\n",
      "At iterate     0  f=       360.05  |proj g|=    0.0077035\n",
      "At iterate     1  f =       360.05  |proj g|=     0.0077029\n",
      "At iterate     2  f =       359.75  |proj g|=             0\n",
      "\n",
      "iterations 2\n",
      "function evaluations 3\n",
      "segments explored during Cauchy searches 2\n",
      "BFGS updates skipped 0\n",
      "active bounds at final generalized Cauchy point 1\n",
      "norm of the final projected gradient 0\n",
      "final function value 359.751\n",
      "\n",
      "F = 359.751\n",
      "final  value 359.750957 \n",
      "converged\n"
     ]
    },
    {
     "name": "stderr",
     "output_type": "stream",
     "text": [
      "[mbo] 21: x=-3.92 : y = 3.14e+04 : 0.0 secs : infill_ei\n",
      "\n"
     ]
    },
    {
     "name": "stdout",
     "output_type": "stream",
     "text": [
      "\n",
      "optimisation start\n",
      "------------------\n",
      "* estimation method   : MLE \n",
      "* optimisation method : BFGS \n",
      "* analytical gradient : used\n",
      "* trend model : ~1\n",
      "* covariance model : \n",
      "  - type :  matern3_2 \n",
      "  - nugget : NO\n",
      "  - parameters lower bounds :  1e-10 \n",
      "  - parameters upper bounds :  313.1122 \n",
      "  - best initial criterion value(s) :  -371.7815 \n",
      "\n",
      "N = 1, M = 5 machine precision = 2.22045e-16\n",
      "At X0, 0 variables are exactly at the bounds\n",
      "At iterate     0  f=       371.78  |proj g|=    0.0057432\n",
      "At iterate     1  f =       371.78  |proj g|=     0.0057429\n",
      "At iterate     2  f =       371.71  |proj g|=             0\n",
      "\n",
      "iterations 2\n",
      "function evaluations 3\n",
      "segments explored during Cauchy searches 2\n",
      "BFGS updates skipped 0\n",
      "active bounds at final generalized Cauchy point 1\n",
      "norm of the final projected gradient 0\n",
      "final function value 371.713\n",
      "\n",
      "F = 371.713\n",
      "final  value 371.713035 \n",
      "converged\n"
     ]
    },
    {
     "name": "stderr",
     "output_type": "stream",
     "text": [
      "[mbo] 22: x=15 : y = 2.15e+04 : 0.0 secs : infill_ei\n",
      "\n"
     ]
    },
    {
     "name": "stdout",
     "output_type": "stream",
     "text": [
      "\n",
      "optimisation start\n",
      "------------------\n",
      "* estimation method   : MLE \n",
      "* optimisation method : BFGS \n",
      "* analytical gradient : used\n",
      "* trend model : ~1\n",
      "* covariance model : \n",
      "  - type :  matern3_2 \n",
      "  - nugget : NO\n",
      "  - parameters lower bounds :  1e-10 \n",
      "  - parameters upper bounds :  313.1122 \n",
      "  - best initial criterion value(s) :  -383.7189 \n",
      "\n",
      "N = 1, M = 5 machine precision = 2.22045e-16\n",
      "At X0, 0 variables are exactly at the bounds\n",
      "At iterate     0  f=       383.72  |proj g|=    0.0063851\n",
      "At iterate     1  f =       383.72  |proj g|=     0.0063847\n",
      "At iterate     2  f =       383.64  |proj g|=             0\n",
      "\n",
      "iterations 2\n",
      "function evaluations 3\n",
      "segments explored during Cauchy searches 2\n",
      "BFGS updates skipped 0\n",
      "active bounds at final generalized Cauchy point 1\n",
      "norm of the final projected gradient 0\n",
      "final function value 383.639\n",
      "\n",
      "F = 383.639\n",
      "final  value 383.638769 \n",
      "converged\n"
     ]
    },
    {
     "name": "stderr",
     "output_type": "stream",
     "text": [
      "[mbo] 23: x=-0.775 : y = 1.42e+04 : 0.0 secs : infill_ei\n",
      "\n"
     ]
    },
    {
     "name": "stdout",
     "output_type": "stream",
     "text": [
      "\n",
      "optimisation start\n",
      "------------------\n",
      "* estimation method   : MLE \n",
      "* optimisation method : BFGS \n",
      "* analytical gradient : used\n",
      "* trend model : ~1\n",
      "* covariance model : \n",
      "  - type :  matern3_2 \n",
      "  - nugget : NO\n",
      "  - parameters lower bounds :  1e-10 \n",
      "  - parameters upper bounds :  313.1122 \n",
      "  - best initial criterion value(s) :  -395.672 \n",
      "\n",
      "N = 1, M = 5 machine precision = 2.22045e-16\n",
      "At X0, 0 variables are exactly at the bounds\n",
      "At iterate     0  f=       395.67  |proj g|=    0.0063424\n",
      "At iterate     1  f =       395.67  |proj g|=      0.006342\n",
      "At iterate     2  f =       395.65  |proj g|=             0\n",
      "\n",
      "iterations 2\n",
      "function evaluations 3\n",
      "segments explored during Cauchy searches 2\n",
      "BFGS updates skipped 0\n",
      "active bounds at final generalized Cauchy point 1\n",
      "norm of the final projected gradient 0\n",
      "final function value 395.651\n",
      "\n",
      "F = 395.651\n",
      "final  value 395.650743 \n",
      "converged\n"
     ]
    },
    {
     "name": "stderr",
     "output_type": "stream",
     "text": [
      "[mbo] 24: x=12.2 : y = 1.63e+04 : 0.0 secs : infill_ei\n",
      "\n"
     ]
    },
    {
     "name": "stdout",
     "output_type": "stream",
     "text": [
      "\n",
      "optimisation start\n",
      "------------------\n",
      "* estimation method   : MLE \n",
      "* optimisation method : BFGS \n",
      "* analytical gradient : used\n",
      "* trend model : ~1\n",
      "* covariance model : \n",
      "  - type :  matern3_2 \n",
      "  - nugget : NO\n",
      "  - parameters lower bounds :  1e-10 \n",
      "  - parameters upper bounds :  313.1122 \n",
      "  - best initial criterion value(s) :  -407.46 \n",
      "\n",
      "N = 1, M = 5 machine precision = 2.22045e-16\n",
      "At X0, 0 variables are exactly at the bounds\n",
      "At iterate     0  f=       407.46  |proj g|=    0.0067673\n",
      "At iterate     1  f =       407.46  |proj g|=     0.0067669\n",
      "At iterate     2  f =       407.45  |proj g|=             0\n",
      "\n",
      "iterations 2\n",
      "function evaluations 3\n",
      "segments explored during Cauchy searches 2\n",
      "BFGS updates skipped 0\n",
      "active bounds at final generalized Cauchy point 1\n",
      "norm of the final projected gradient 0\n",
      "final function value 407.452\n",
      "\n",
      "F = 407.452\n",
      "final  value 407.451651 \n",
      "converged\n"
     ]
    },
    {
     "name": "stderr",
     "output_type": "stream",
     "text": [
      "[mbo] 25: x=-7.61 : y = 4.45e+04 : 0.0 secs : infill_ei\n",
      "\n"
     ]
    },
    {
     "name": "stdout",
     "output_type": "stream",
     "text": [
      "\n",
      "optimisation start\n",
      "------------------\n",
      "* estimation method   : MLE \n",
      "* optimisation method : BFGS \n",
      "* analytical gradient : used\n",
      "* trend model : ~1\n",
      "* covariance model : \n",
      "  - type :  matern3_2 \n",
      "  - nugget : NO\n",
      "  - parameters lower bounds :  1e-10 \n",
      "  - parameters upper bounds :  313.1122 \n",
      "  - best initial criterion value(s) :  -418.2878 \n",
      "\n",
      "N = 1, M = 5 machine precision = 2.22045e-16\n",
      "At X0, 0 variables are exactly at the bounds\n",
      "At iterate     0  f=       418.29  |proj g|=    0.0074251\n",
      "At iterate     1  f =       418.29  |proj g|=     0.0074246\n",
      "At iterate     2  f =       418.27  |proj g|=             0\n",
      "\n",
      "iterations 2\n",
      "function evaluations 3\n",
      "segments explored during Cauchy searches 2\n",
      "BFGS updates skipped 0\n",
      "active bounds at final generalized Cauchy point 1\n",
      "norm of the final projected gradient 0\n",
      "final function value 418.268\n",
      "\n",
      "F = 418.268\n",
      "final  value 418.267528 \n",
      "converged\n"
     ]
    }
   ],
   "source": [
    "run  <- mbo( fun=      obj.fun, \n",
    "             learner= fproxy, \n",
    "             control= ctrl )"
   ]
  },
  {
   "cell_type": "code",
   "execution_count": 9,
   "metadata": {
    "tags": [],
    "vscode": {
     "languageId": "r"
    }
   },
   "outputs": [],
   "source": [
    "tb_resultados  <- as.data.table( run$opt.path )"
   ]
  },
  {
   "cell_type": "code",
   "execution_count": 10,
   "metadata": {
    "tags": [],
    "vscode": {
     "languageId": "r"
    }
   },
   "outputs": [
    {
     "data": {
      "text/html": [
       "<table class=\"dataframe\">\n",
       "<caption>A data.table: 29 × 13</caption>\n",
       "<thead>\n",
       "\t<tr><th scope=col>x</th><th scope=col>y</th><th scope=col>dob</th><th scope=col>eol</th><th scope=col>error.message</th><th scope=col>exec.time</th><th scope=col>ei</th><th scope=col>error.model</th><th scope=col>train.time</th><th scope=col>prop.type</th><th scope=col>propose.time</th><th scope=col>se</th><th scope=col>mean</th></tr>\n",
       "\t<tr><th scope=col>&lt;dbl&gt;</th><th scope=col>&lt;dbl&gt;</th><th scope=col>&lt;int&gt;</th><th scope=col>&lt;int&gt;</th><th scope=col>&lt;chr&gt;</th><th scope=col>&lt;dbl&gt;</th><th scope=col>&lt;dbl&gt;</th><th scope=col>&lt;chr&gt;</th><th scope=col>&lt;dbl&gt;</th><th scope=col>&lt;chr&gt;</th><th scope=col>&lt;dbl&gt;</th><th scope=col>&lt;dbl&gt;</th><th scope=col>&lt;dbl&gt;</th></tr>\n",
       "</thead>\n",
       "<tbody>\n",
       "\t<tr><td> 88.1124160</td><td>-9.648745e+07</td><td> 0</td><td>NA</td><td>NA</td><td>0.01</td><td>          NA</td><td>NA</td><td>  NA</td><td>initdesign</td><td>  NA</td><td>         NA</td><td>           NA</td></tr>\n",
       "\t<tr><td>-48.1492408</td><td>-1.331575e+07</td><td> 0</td><td>NA</td><td>NA</td><td>0.00</td><td>          NA</td><td>NA</td><td>  NA</td><td>initdesign</td><td>  NA</td><td>         NA</td><td>           NA</td></tr>\n",
       "\t<tr><td> 10.7239795</td><td> 1.129503e+04</td><td> 0</td><td>NA</td><td>NA</td><td>0.00</td><td>          NA</td><td>NA</td><td>  NA</td><td>initdesign</td><td>  NA</td><td>         NA</td><td>           NA</td></tr>\n",
       "\t<tr><td>-68.4436930</td><td>-5.226338e+07</td><td> 0</td><td>NA</td><td>NA</td><td>0.00</td><td>          NA</td><td>NA</td><td>  NA</td><td>initdesign</td><td>  NA</td><td>         NA</td><td>           NA</td></tr>\n",
       "\t<tr><td>-45.5673127</td><td>-1.073704e+07</td><td> 1</td><td>NA</td><td>NA</td><td>0.00</td><td>-2693969.217</td><td>NA</td><td>0.14</td><td>infill_ei </td><td>0.34</td><td>37593612.09</td><td>-40513820.838</td></tr>\n",
       "\t<tr><td>-11.1154113</td><td> 2.902533e+04</td><td> 2</td><td>NA</td><td>NA</td><td>0.00</td><td>-8945017.653</td><td>NA</td><td>0.03</td><td>infill_ei </td><td>0.29</td><td>17461025.27</td><td>  3665472.375</td></tr>\n",
       "\t<tr><td>  0.8912098</td><td> 6.481091e+03</td><td> 3</td><td>NA</td><td>NA</td><td>0.00</td><td>-2842895.116</td><td>NA</td><td>0.03</td><td>infill_ei </td><td>0.28</td><td> 4714424.88</td><td>  1715189.187</td></tr>\n",
       "\t<tr><td>-23.8200311</td><td>-7.659454e+05</td><td> 4</td><td>NA</td><td>NA</td><td>0.00</td><td>-1620125.003</td><td>NA</td><td>0.01</td><td>infill_ei </td><td>0.34</td><td> 4917116.41</td><td>  -696665.601</td></tr>\n",
       "\t<tr><td>  6.4023861</td><td>-9.939802e+02</td><td> 5</td><td>NA</td><td>NA</td><td>0.00</td><td> -540434.068</td><td>NA</td><td>0.03</td><td>infill_ei </td><td>0.31</td><td>  947304.05</td><td>   318933.015</td></tr>\n",
       "\t<tr><td> -5.3945458</td><td> 3.860786e+04</td><td> 6</td><td>NA</td><td>NA</td><td>0.00</td><td> -378603.344</td><td>NA</td><td>0.03</td><td>infill_ei </td><td>0.25</td><td>  913472.98</td><td>    57043.220</td></tr>\n",
       "\t<tr><td>-16.7427408</td><td>-1.254140e+05</td><td> 7</td><td>NA</td><td>NA</td><td>0.00</td><td> -278671.740</td><td>NA</td><td>0.03</td><td>infill_ei </td><td>0.25</td><td>  877720.22</td><td>  -115075.930</td></tr>\n",
       "\t<tr><td> 20.6662832</td><td>-2.708754e+04</td><td> 8</td><td>NA</td><td>NA</td><td>0.00</td><td> -215093.650</td><td>NA</td><td>0.03</td><td>infill_ei </td><td>0.29</td><td> 3133884.13</td><td> -3408310.486</td></tr>\n",
       "\t<tr><td> 16.5378955</td><td> 1.878104e+04</td><td> 9</td><td>NA</td><td>NA</td><td>0.00</td><td> -380749.528</td><td>NA</td><td>0.03</td><td>infill_ei </td><td>0.30</td><td>  589088.65</td><td>   288436.323</td></tr>\n",
       "\t<tr><td> -2.3660396</td><td> 2.283804e+04</td><td>10</td><td>NA</td><td>NA</td><td>0.00</td><td> -101357.054</td><td>NA</td><td>0.02</td><td>infill_ei </td><td>0.29</td><td>  272552.61</td><td>    23523.474</td></tr>\n",
       "\t<tr><td> -8.3162216</td><td> 4.435066e+04</td><td>11</td><td>NA</td><td>NA</td><td>0.00</td><td>  -88261.309</td><td>NA</td><td>0.01</td><td>infill_ei </td><td>0.30</td><td>  213628.35</td><td>    44612.387</td></tr>\n",
       "\t<tr><td> 18.7026124</td><td> 3.464995e+03</td><td>12</td><td>NA</td><td>NA</td><td>0.00</td><td>  -67764.940</td><td>NA</td><td>0.01</td><td>infill_ei </td><td>0.25</td><td>  153510.68</td><td>    56982.310</td></tr>\n",
       "\t<tr><td> 13.5980223</td><td> 2.009420e+04</td><td>13</td><td>NA</td><td>NA</td><td>0.00</td><td>  -66710.669</td><td>NA</td><td>0.05</td><td>infill_ei </td><td>0.26</td><td>  191698.99</td><td>    23953.300</td></tr>\n",
       "\t<tr><td>  3.6501863</td><td>-1.113296e+03</td><td>14</td><td>NA</td><td>NA</td><td>0.00</td><td>  -49712.064</td><td>NA</td><td>0.03</td><td>infill_ei </td><td>0.25</td><td>  175631.14</td><td>    -1005.671</td></tr>\n",
       "\t<tr><td>-13.5847819</td><td>-1.301052e+04</td><td>15</td><td>NA</td><td>NA</td><td>0.00</td><td>  -45360.182</td><td>NA</td><td>0.01</td><td>infill_ei </td><td>0.33</td><td>  176326.91</td><td>   -12992.232</td></tr>\n",
       "\t<tr><td> 26.5432982</td><td>-2.744918e+05</td><td>16</td><td>NA</td><td>NA</td><td>0.00</td><td>  -35648.807</td><td>NA</td><td>0.01</td><td>infill_ei </td><td>0.36</td><td> 1089182.16</td><td> -1536198.042</td></tr>\n",
       "\t<tr><td> 23.5903234</td><td>-1.147513e+05</td><td>17</td><td>NA</td><td>NA</td><td>0.00</td><td>  -49540.381</td><td>NA</td><td>0.02</td><td>infill_ei </td><td>0.31</td><td>  200759.11</td><td>   -26671.500</td></tr>\n",
       "\t<tr><td>  8.6234703</td><td> 4.096909e+03</td><td>18</td><td>NA</td><td>NA</td><td>0.00</td><td>  -27999.439</td><td>NA</td><td>0.03</td><td>infill_ei </td><td>0.30</td><td>  113490.95</td><td>     4184.080</td></tr>\n",
       "\t<tr><td> -6.8882564</td><td> 4.345756e+04</td><td>19</td><td>NA</td><td>NA</td><td>0.00</td><td>  -25942.529</td><td>NA</td><td>0.01</td><td>infill_ei </td><td>0.32</td><td>   66128.31</td><td>    43468.259</td></tr>\n",
       "\t<tr><td> -9.6624660</td><td> 4.036703e+04</td><td>20</td><td>NA</td><td>NA</td><td>0.00</td><td>  -20701.095</td><td>NA</td><td>0.03</td><td>infill_ei </td><td>0.28</td><td>   56735.00</td><td>    40373.697</td></tr>\n",
       "\t<tr><td> -3.9168112</td><td> 3.143578e+04</td><td>21</td><td>NA</td><td>NA</td><td>0.00</td><td>  -19269.655</td><td>NA</td><td>0.03</td><td>infill_ei </td><td>0.34</td><td>   63159.21</td><td>    31448.355</td></tr>\n",
       "\t<tr><td> 15.0474121</td><td> 2.149584e+04</td><td>22</td><td>NA</td><td>NA</td><td>0.00</td><td>  -14603.366</td><td>NA</td><td>0.03</td><td>infill_ei </td><td>0.33</td><td>   60880.14</td><td>    21641.269</td></tr>\n",
       "\t<tr><td> -0.7752679</td><td> 1.419237e+04</td><td>23</td><td>NA</td><td>NA</td><td>0.00</td><td>  -14081.837</td><td>NA</td><td>0.01</td><td>infill_ei </td><td>0.34</td><td>   66338.78</td><td>    14213.853</td></tr>\n",
       "\t<tr><td> 12.1828756</td><td> 1.634128e+04</td><td>24</td><td>NA</td><td>NA</td><td>0.00</td><td>  -10274.073</td><td>NA</td><td>0.01</td><td>infill_ei </td><td>0.36</td><td>   53697.22</td><td>    16363.495</td></tr>\n",
       "\t<tr><td> -7.6097944</td><td> 4.446599e+04</td><td>25</td><td>NA</td><td>NA</td><td>0.00</td><td>   -8054.981</td><td>NA</td><td>0.03</td><td>infill_ei </td><td>0.36</td><td>   20045.55</td><td>    44466.321</td></tr>\n",
       "</tbody>\n",
       "</table>\n"
      ],
      "text/latex": [
       "A data.table: 29 × 13\n",
       "\\begin{tabular}{lllllllllllll}\n",
       " x & y & dob & eol & error.message & exec.time & ei & error.model & train.time & prop.type & propose.time & se & mean\\\\\n",
       " <dbl> & <dbl> & <int> & <int> & <chr> & <dbl> & <dbl> & <chr> & <dbl> & <chr> & <dbl> & <dbl> & <dbl>\\\\\n",
       "\\hline\n",
       "\t  88.1124160 & -9.648745e+07 &  0 & NA & NA & 0.01 &           NA & NA &   NA & initdesign &   NA &          NA &            NA\\\\\n",
       "\t -48.1492408 & -1.331575e+07 &  0 & NA & NA & 0.00 &           NA & NA &   NA & initdesign &   NA &          NA &            NA\\\\\n",
       "\t  10.7239795 &  1.129503e+04 &  0 & NA & NA & 0.00 &           NA & NA &   NA & initdesign &   NA &          NA &            NA\\\\\n",
       "\t -68.4436930 & -5.226338e+07 &  0 & NA & NA & 0.00 &           NA & NA &   NA & initdesign &   NA &          NA &            NA\\\\\n",
       "\t -45.5673127 & -1.073704e+07 &  1 & NA & NA & 0.00 & -2693969.217 & NA & 0.14 & infill\\_ei  & 0.34 & 37593612.09 & -40513820.838\\\\\n",
       "\t -11.1154113 &  2.902533e+04 &  2 & NA & NA & 0.00 & -8945017.653 & NA & 0.03 & infill\\_ei  & 0.29 & 17461025.27 &   3665472.375\\\\\n",
       "\t   0.8912098 &  6.481091e+03 &  3 & NA & NA & 0.00 & -2842895.116 & NA & 0.03 & infill\\_ei  & 0.28 &  4714424.88 &   1715189.187\\\\\n",
       "\t -23.8200311 & -7.659454e+05 &  4 & NA & NA & 0.00 & -1620125.003 & NA & 0.01 & infill\\_ei  & 0.34 &  4917116.41 &   -696665.601\\\\\n",
       "\t   6.4023861 & -9.939802e+02 &  5 & NA & NA & 0.00 &  -540434.068 & NA & 0.03 & infill\\_ei  & 0.31 &   947304.05 &    318933.015\\\\\n",
       "\t  -5.3945458 &  3.860786e+04 &  6 & NA & NA & 0.00 &  -378603.344 & NA & 0.03 & infill\\_ei  & 0.25 &   913472.98 &     57043.220\\\\\n",
       "\t -16.7427408 & -1.254140e+05 &  7 & NA & NA & 0.00 &  -278671.740 & NA & 0.03 & infill\\_ei  & 0.25 &   877720.22 &   -115075.930\\\\\n",
       "\t  20.6662832 & -2.708754e+04 &  8 & NA & NA & 0.00 &  -215093.650 & NA & 0.03 & infill\\_ei  & 0.29 &  3133884.13 &  -3408310.486\\\\\n",
       "\t  16.5378955 &  1.878104e+04 &  9 & NA & NA & 0.00 &  -380749.528 & NA & 0.03 & infill\\_ei  & 0.30 &   589088.65 &    288436.323\\\\\n",
       "\t  -2.3660396 &  2.283804e+04 & 10 & NA & NA & 0.00 &  -101357.054 & NA & 0.02 & infill\\_ei  & 0.29 &   272552.61 &     23523.474\\\\\n",
       "\t  -8.3162216 &  4.435066e+04 & 11 & NA & NA & 0.00 &   -88261.309 & NA & 0.01 & infill\\_ei  & 0.30 &   213628.35 &     44612.387\\\\\n",
       "\t  18.7026124 &  3.464995e+03 & 12 & NA & NA & 0.00 &   -67764.940 & NA & 0.01 & infill\\_ei  & 0.25 &   153510.68 &     56982.310\\\\\n",
       "\t  13.5980223 &  2.009420e+04 & 13 & NA & NA & 0.00 &   -66710.669 & NA & 0.05 & infill\\_ei  & 0.26 &   191698.99 &     23953.300\\\\\n",
       "\t   3.6501863 & -1.113296e+03 & 14 & NA & NA & 0.00 &   -49712.064 & NA & 0.03 & infill\\_ei  & 0.25 &   175631.14 &     -1005.671\\\\\n",
       "\t -13.5847819 & -1.301052e+04 & 15 & NA & NA & 0.00 &   -45360.182 & NA & 0.01 & infill\\_ei  & 0.33 &   176326.91 &    -12992.232\\\\\n",
       "\t  26.5432982 & -2.744918e+05 & 16 & NA & NA & 0.00 &   -35648.807 & NA & 0.01 & infill\\_ei  & 0.36 &  1089182.16 &  -1536198.042\\\\\n",
       "\t  23.5903234 & -1.147513e+05 & 17 & NA & NA & 0.00 &   -49540.381 & NA & 0.02 & infill\\_ei  & 0.31 &   200759.11 &    -26671.500\\\\\n",
       "\t   8.6234703 &  4.096909e+03 & 18 & NA & NA & 0.00 &   -27999.439 & NA & 0.03 & infill\\_ei  & 0.30 &   113490.95 &      4184.080\\\\\n",
       "\t  -6.8882564 &  4.345756e+04 & 19 & NA & NA & 0.00 &   -25942.529 & NA & 0.01 & infill\\_ei  & 0.32 &    66128.31 &     43468.259\\\\\n",
       "\t  -9.6624660 &  4.036703e+04 & 20 & NA & NA & 0.00 &   -20701.095 & NA & 0.03 & infill\\_ei  & 0.28 &    56735.00 &     40373.697\\\\\n",
       "\t  -3.9168112 &  3.143578e+04 & 21 & NA & NA & 0.00 &   -19269.655 & NA & 0.03 & infill\\_ei  & 0.34 &    63159.21 &     31448.355\\\\\n",
       "\t  15.0474121 &  2.149584e+04 & 22 & NA & NA & 0.00 &   -14603.366 & NA & 0.03 & infill\\_ei  & 0.33 &    60880.14 &     21641.269\\\\\n",
       "\t  -0.7752679 &  1.419237e+04 & 23 & NA & NA & 0.00 &   -14081.837 & NA & 0.01 & infill\\_ei  & 0.34 &    66338.78 &     14213.853\\\\\n",
       "\t  12.1828756 &  1.634128e+04 & 24 & NA & NA & 0.00 &   -10274.073 & NA & 0.01 & infill\\_ei  & 0.36 &    53697.22 &     16363.495\\\\\n",
       "\t  -7.6097944 &  4.446599e+04 & 25 & NA & NA & 0.00 &    -8054.981 & NA & 0.03 & infill\\_ei  & 0.36 &    20045.55 &     44466.321\\\\\n",
       "\\end{tabular}\n"
      ],
      "text/markdown": [
       "\n",
       "A data.table: 29 × 13\n",
       "\n",
       "| x &lt;dbl&gt; | y &lt;dbl&gt; | dob &lt;int&gt; | eol &lt;int&gt; | error.message &lt;chr&gt; | exec.time &lt;dbl&gt; | ei &lt;dbl&gt; | error.model &lt;chr&gt; | train.time &lt;dbl&gt; | prop.type &lt;chr&gt; | propose.time &lt;dbl&gt; | se &lt;dbl&gt; | mean &lt;dbl&gt; |\n",
       "|---|---|---|---|---|---|---|---|---|---|---|---|---|\n",
       "|  88.1124160 | -9.648745e+07 |  0 | NA | NA | 0.01 |           NA | NA |   NA | initdesign |   NA |          NA |            NA |\n",
       "| -48.1492408 | -1.331575e+07 |  0 | NA | NA | 0.00 |           NA | NA |   NA | initdesign |   NA |          NA |            NA |\n",
       "|  10.7239795 |  1.129503e+04 |  0 | NA | NA | 0.00 |           NA | NA |   NA | initdesign |   NA |          NA |            NA |\n",
       "| -68.4436930 | -5.226338e+07 |  0 | NA | NA | 0.00 |           NA | NA |   NA | initdesign |   NA |          NA |            NA |\n",
       "| -45.5673127 | -1.073704e+07 |  1 | NA | NA | 0.00 | -2693969.217 | NA | 0.14 | infill_ei  | 0.34 | 37593612.09 | -40513820.838 |\n",
       "| -11.1154113 |  2.902533e+04 |  2 | NA | NA | 0.00 | -8945017.653 | NA | 0.03 | infill_ei  | 0.29 | 17461025.27 |   3665472.375 |\n",
       "|   0.8912098 |  6.481091e+03 |  3 | NA | NA | 0.00 | -2842895.116 | NA | 0.03 | infill_ei  | 0.28 |  4714424.88 |   1715189.187 |\n",
       "| -23.8200311 | -7.659454e+05 |  4 | NA | NA | 0.00 | -1620125.003 | NA | 0.01 | infill_ei  | 0.34 |  4917116.41 |   -696665.601 |\n",
       "|   6.4023861 | -9.939802e+02 |  5 | NA | NA | 0.00 |  -540434.068 | NA | 0.03 | infill_ei  | 0.31 |   947304.05 |    318933.015 |\n",
       "|  -5.3945458 |  3.860786e+04 |  6 | NA | NA | 0.00 |  -378603.344 | NA | 0.03 | infill_ei  | 0.25 |   913472.98 |     57043.220 |\n",
       "| -16.7427408 | -1.254140e+05 |  7 | NA | NA | 0.00 |  -278671.740 | NA | 0.03 | infill_ei  | 0.25 |   877720.22 |   -115075.930 |\n",
       "|  20.6662832 | -2.708754e+04 |  8 | NA | NA | 0.00 |  -215093.650 | NA | 0.03 | infill_ei  | 0.29 |  3133884.13 |  -3408310.486 |\n",
       "|  16.5378955 |  1.878104e+04 |  9 | NA | NA | 0.00 |  -380749.528 | NA | 0.03 | infill_ei  | 0.30 |   589088.65 |    288436.323 |\n",
       "|  -2.3660396 |  2.283804e+04 | 10 | NA | NA | 0.00 |  -101357.054 | NA | 0.02 | infill_ei  | 0.29 |   272552.61 |     23523.474 |\n",
       "|  -8.3162216 |  4.435066e+04 | 11 | NA | NA | 0.00 |   -88261.309 | NA | 0.01 | infill_ei  | 0.30 |   213628.35 |     44612.387 |\n",
       "|  18.7026124 |  3.464995e+03 | 12 | NA | NA | 0.00 |   -67764.940 | NA | 0.01 | infill_ei  | 0.25 |   153510.68 |     56982.310 |\n",
       "|  13.5980223 |  2.009420e+04 | 13 | NA | NA | 0.00 |   -66710.669 | NA | 0.05 | infill_ei  | 0.26 |   191698.99 |     23953.300 |\n",
       "|   3.6501863 | -1.113296e+03 | 14 | NA | NA | 0.00 |   -49712.064 | NA | 0.03 | infill_ei  | 0.25 |   175631.14 |     -1005.671 |\n",
       "| -13.5847819 | -1.301052e+04 | 15 | NA | NA | 0.00 |   -45360.182 | NA | 0.01 | infill_ei  | 0.33 |   176326.91 |    -12992.232 |\n",
       "|  26.5432982 | -2.744918e+05 | 16 | NA | NA | 0.00 |   -35648.807 | NA | 0.01 | infill_ei  | 0.36 |  1089182.16 |  -1536198.042 |\n",
       "|  23.5903234 | -1.147513e+05 | 17 | NA | NA | 0.00 |   -49540.381 | NA | 0.02 | infill_ei  | 0.31 |   200759.11 |    -26671.500 |\n",
       "|   8.6234703 |  4.096909e+03 | 18 | NA | NA | 0.00 |   -27999.439 | NA | 0.03 | infill_ei  | 0.30 |   113490.95 |      4184.080 |\n",
       "|  -6.8882564 |  4.345756e+04 | 19 | NA | NA | 0.00 |   -25942.529 | NA | 0.01 | infill_ei  | 0.32 |    66128.31 |     43468.259 |\n",
       "|  -9.6624660 |  4.036703e+04 | 20 | NA | NA | 0.00 |   -20701.095 | NA | 0.03 | infill_ei  | 0.28 |    56735.00 |     40373.697 |\n",
       "|  -3.9168112 |  3.143578e+04 | 21 | NA | NA | 0.00 |   -19269.655 | NA | 0.03 | infill_ei  | 0.34 |    63159.21 |     31448.355 |\n",
       "|  15.0474121 |  2.149584e+04 | 22 | NA | NA | 0.00 |   -14603.366 | NA | 0.03 | infill_ei  | 0.33 |    60880.14 |     21641.269 |\n",
       "|  -0.7752679 |  1.419237e+04 | 23 | NA | NA | 0.00 |   -14081.837 | NA | 0.01 | infill_ei  | 0.34 |    66338.78 |     14213.853 |\n",
       "|  12.1828756 |  1.634128e+04 | 24 | NA | NA | 0.00 |   -10274.073 | NA | 0.01 | infill_ei  | 0.36 |    53697.22 |     16363.495 |\n",
       "|  -7.6097944 |  4.446599e+04 | 25 | NA | NA | 0.00 |    -8054.981 | NA | 0.03 | infill_ei  | 0.36 |    20045.55 |     44466.321 |\n",
       "\n"
      ],
      "text/plain": [
       "   x           y             dob eol error.message exec.time ei          \n",
       "1   88.1124160 -9.648745e+07  0  NA  NA            0.01                NA\n",
       "2  -48.1492408 -1.331575e+07  0  NA  NA            0.00                NA\n",
       "3   10.7239795  1.129503e+04  0  NA  NA            0.00                NA\n",
       "4  -68.4436930 -5.226338e+07  0  NA  NA            0.00                NA\n",
       "5  -45.5673127 -1.073704e+07  1  NA  NA            0.00      -2693969.217\n",
       "6  -11.1154113  2.902533e+04  2  NA  NA            0.00      -8945017.653\n",
       "7    0.8912098  6.481091e+03  3  NA  NA            0.00      -2842895.116\n",
       "8  -23.8200311 -7.659454e+05  4  NA  NA            0.00      -1620125.003\n",
       "9    6.4023861 -9.939802e+02  5  NA  NA            0.00       -540434.068\n",
       "10  -5.3945458  3.860786e+04  6  NA  NA            0.00       -378603.344\n",
       "11 -16.7427408 -1.254140e+05  7  NA  NA            0.00       -278671.740\n",
       "12  20.6662832 -2.708754e+04  8  NA  NA            0.00       -215093.650\n",
       "13  16.5378955  1.878104e+04  9  NA  NA            0.00       -380749.528\n",
       "14  -2.3660396  2.283804e+04 10  NA  NA            0.00       -101357.054\n",
       "15  -8.3162216  4.435066e+04 11  NA  NA            0.00        -88261.309\n",
       "16  18.7026124  3.464995e+03 12  NA  NA            0.00        -67764.940\n",
       "17  13.5980223  2.009420e+04 13  NA  NA            0.00        -66710.669\n",
       "18   3.6501863 -1.113296e+03 14  NA  NA            0.00        -49712.064\n",
       "19 -13.5847819 -1.301052e+04 15  NA  NA            0.00        -45360.182\n",
       "20  26.5432982 -2.744918e+05 16  NA  NA            0.00        -35648.807\n",
       "21  23.5903234 -1.147513e+05 17  NA  NA            0.00        -49540.381\n",
       "22   8.6234703  4.096909e+03 18  NA  NA            0.00        -27999.439\n",
       "23  -6.8882564  4.345756e+04 19  NA  NA            0.00        -25942.529\n",
       "24  -9.6624660  4.036703e+04 20  NA  NA            0.00        -20701.095\n",
       "25  -3.9168112  3.143578e+04 21  NA  NA            0.00        -19269.655\n",
       "26  15.0474121  2.149584e+04 22  NA  NA            0.00        -14603.366\n",
       "27  -0.7752679  1.419237e+04 23  NA  NA            0.00        -14081.837\n",
       "28  12.1828756  1.634128e+04 24  NA  NA            0.00        -10274.073\n",
       "29  -7.6097944  4.446599e+04 25  NA  NA            0.00         -8054.981\n",
       "   error.model train.time prop.type  propose.time se          mean         \n",
       "1  NA            NA       initdesign   NA                  NA            NA\n",
       "2  NA            NA       initdesign   NA                  NA            NA\n",
       "3  NA            NA       initdesign   NA                  NA            NA\n",
       "4  NA            NA       initdesign   NA                  NA            NA\n",
       "5  NA          0.14       infill_ei  0.34         37593612.09 -40513820.838\n",
       "6  NA          0.03       infill_ei  0.29         17461025.27   3665472.375\n",
       "7  NA          0.03       infill_ei  0.28          4714424.88   1715189.187\n",
       "8  NA          0.01       infill_ei  0.34          4917116.41   -696665.601\n",
       "9  NA          0.03       infill_ei  0.31           947304.05    318933.015\n",
       "10 NA          0.03       infill_ei  0.25           913472.98     57043.220\n",
       "11 NA          0.03       infill_ei  0.25           877720.22   -115075.930\n",
       "12 NA          0.03       infill_ei  0.29          3133884.13  -3408310.486\n",
       "13 NA          0.03       infill_ei  0.30           589088.65    288436.323\n",
       "14 NA          0.02       infill_ei  0.29           272552.61     23523.474\n",
       "15 NA          0.01       infill_ei  0.30           213628.35     44612.387\n",
       "16 NA          0.01       infill_ei  0.25           153510.68     56982.310\n",
       "17 NA          0.05       infill_ei  0.26           191698.99     23953.300\n",
       "18 NA          0.03       infill_ei  0.25           175631.14     -1005.671\n",
       "19 NA          0.01       infill_ei  0.33           176326.91    -12992.232\n",
       "20 NA          0.01       infill_ei  0.36          1089182.16  -1536198.042\n",
       "21 NA          0.02       infill_ei  0.31           200759.11    -26671.500\n",
       "22 NA          0.03       infill_ei  0.30           113490.95      4184.080\n",
       "23 NA          0.01       infill_ei  0.32            66128.31     43468.259\n",
       "24 NA          0.03       infill_ei  0.28            56735.00     40373.697\n",
       "25 NA          0.03       infill_ei  0.34            63159.21     31448.355\n",
       "26 NA          0.03       infill_ei  0.33            60880.14     21641.269\n",
       "27 NA          0.01       infill_ei  0.34            66338.78     14213.853\n",
       "28 NA          0.01       infill_ei  0.36            53697.22     16363.495\n",
       "29 NA          0.03       infill_ei  0.36            20045.55     44466.321"
      ]
     },
     "metadata": {},
     "output_type": "display_data"
    }
   ],
   "source": [
    "tb_resultados"
   ]
  },
  {
   "cell_type": "code",
   "execution_count": 11,
   "metadata": {
    "tags": [],
    "vscode": {
     "languageId": "r"
    }
   },
   "outputs": [
    {
     "data": {
      "text/html": [
       "<table class=\"dataframe\">\n",
       "<caption>A data.table: 1 × 13</caption>\n",
       "<thead>\n",
       "\t<tr><th scope=col>x</th><th scope=col>y</th><th scope=col>dob</th><th scope=col>eol</th><th scope=col>error.message</th><th scope=col>exec.time</th><th scope=col>ei</th><th scope=col>error.model</th><th scope=col>train.time</th><th scope=col>prop.type</th><th scope=col>propose.time</th><th scope=col>se</th><th scope=col>mean</th></tr>\n",
       "\t<tr><th scope=col>&lt;dbl&gt;</th><th scope=col>&lt;dbl&gt;</th><th scope=col>&lt;int&gt;</th><th scope=col>&lt;int&gt;</th><th scope=col>&lt;chr&gt;</th><th scope=col>&lt;dbl&gt;</th><th scope=col>&lt;dbl&gt;</th><th scope=col>&lt;chr&gt;</th><th scope=col>&lt;dbl&gt;</th><th scope=col>&lt;chr&gt;</th><th scope=col>&lt;dbl&gt;</th><th scope=col>&lt;dbl&gt;</th><th scope=col>&lt;dbl&gt;</th></tr>\n",
       "</thead>\n",
       "<tbody>\n",
       "\t<tr><td>-7.609794</td><td>44465.99</td><td>25</td><td>NA</td><td>NA</td><td>0</td><td>-8054.981</td><td>NA</td><td>0.03</td><td>infill_ei</td><td>0.36</td><td>20045.55</td><td>44466.32</td></tr>\n",
       "</tbody>\n",
       "</table>\n"
      ],
      "text/latex": [
       "A data.table: 1 × 13\n",
       "\\begin{tabular}{lllllllllllll}\n",
       " x & y & dob & eol & error.message & exec.time & ei & error.model & train.time & prop.type & propose.time & se & mean\\\\\n",
       " <dbl> & <dbl> & <int> & <int> & <chr> & <dbl> & <dbl> & <chr> & <dbl> & <chr> & <dbl> & <dbl> & <dbl>\\\\\n",
       "\\hline\n",
       "\t -7.609794 & 44465.99 & 25 & NA & NA & 0 & -8054.981 & NA & 0.03 & infill\\_ei & 0.36 & 20045.55 & 44466.32\\\\\n",
       "\\end{tabular}\n"
      ],
      "text/markdown": [
       "\n",
       "A data.table: 1 × 13\n",
       "\n",
       "| x &lt;dbl&gt; | y &lt;dbl&gt; | dob &lt;int&gt; | eol &lt;int&gt; | error.message &lt;chr&gt; | exec.time &lt;dbl&gt; | ei &lt;dbl&gt; | error.model &lt;chr&gt; | train.time &lt;dbl&gt; | prop.type &lt;chr&gt; | propose.time &lt;dbl&gt; | se &lt;dbl&gt; | mean &lt;dbl&gt; |\n",
       "|---|---|---|---|---|---|---|---|---|---|---|---|---|\n",
       "| -7.609794 | 44465.99 | 25 | NA | NA | 0 | -8054.981 | NA | 0.03 | infill_ei | 0.36 | 20045.55 | 44466.32 |\n",
       "\n"
      ],
      "text/plain": [
       "  x         y        dob eol error.message exec.time ei        error.model\n",
       "1 -7.609794 44465.99 25  NA  NA            0         -8054.981 NA         \n",
       "  train.time prop.type propose.time se       mean    \n",
       "1 0.03       infill_ei 0.36         20045.55 44466.32"
      ]
     },
     "metadata": {},
     "output_type": "display_data"
    }
   ],
   "source": [
    "tb_resultados[ which.max( tb_resultados$y ) ]"
   ]
  },
  {
   "cell_type": "markdown",
   "metadata": {},
   "source": [
    "### Conclusiones"
   ]
  },
  {
   "cell_type": "markdown",
   "metadata": {},
   "source": [
    "La gran pregunta es :  la Optimización Bayesiana, ¿se focaliza luego de muchas iteraciones solo en el entorno del máximo que está cerca de x= -8 ?"
   ]
  }
 ],
 "metadata": {
  "kernelspec": {
   "display_name": "R",
   "language": "R",
   "name": "ir"
  },
  "language_info": {
   "codemirror_mode": "r",
   "file_extension": ".r",
   "mimetype": "text/x-r-source",
   "name": "R",
   "pygments_lexer": "r",
   "version": "4.2.3"
  }
 },
 "nbformat": 4,
 "nbformat_minor": 4
}
