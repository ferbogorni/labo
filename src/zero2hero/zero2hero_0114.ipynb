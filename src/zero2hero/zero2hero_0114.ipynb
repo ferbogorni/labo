{
 "cells": [
  {
   "cell_type": "markdown",
   "metadata": {},
   "source": [
    "# Zero to Hero"
   ]
  },
  {
   "cell_type": "markdown",
   "metadata": {},
   "source": [
    "## 1.14 Montecarlo Estimation, Arbol\n",
    "## con un for loop"
   ]
  },
  {
   "cell_type": "markdown",
   "metadata": {},
   "source": [
    "El objetivo es implementar con un for loop la estimacion montecarlo, que promedia las ganancias"
   ]
  },
  {
   "cell_type": "code",
   "execution_count": 1,
   "metadata": {
    "vscode": {
     "languageId": "r"
    }
   },
   "outputs": [
    {
     "data": {
      "text/html": [
       "<table class=\"dataframe\">\n",
       "<caption>A matrix: 2 × 6 of type dbl</caption>\n",
       "<thead>\n",
       "\t<tr><th></th><th scope=col>used</th><th scope=col>(Mb)</th><th scope=col>gc trigger</th><th scope=col>(Mb)</th><th scope=col>max used</th><th scope=col>(Mb)</th></tr>\n",
       "</thead>\n",
       "<tbody>\n",
       "\t<tr><th scope=row>Ncells</th><td> 615278</td><td>32.9</td><td>1321322</td><td>70.6</td><td>1321322</td><td>70.6</td></tr>\n",
       "\t<tr><th scope=row>Vcells</th><td>1107243</td><td> 8.5</td><td>8388608</td><td>64.0</td><td>1632080</td><td>12.5</td></tr>\n",
       "</tbody>\n",
       "</table>\n"
      ],
      "text/latex": [
       "A matrix: 2 × 6 of type dbl\n",
       "\\begin{tabular}{r|llllll}\n",
       "  & used & (Mb) & gc trigger & (Mb) & max used & (Mb)\\\\\n",
       "\\hline\n",
       "\tNcells &  615278 & 32.9 & 1321322 & 70.6 & 1321322 & 70.6\\\\\n",
       "\tVcells & 1107243 &  8.5 & 8388608 & 64.0 & 1632080 & 12.5\\\\\n",
       "\\end{tabular}\n"
      ],
      "text/markdown": [
       "\n",
       "A matrix: 2 × 6 of type dbl\n",
       "\n",
       "| <!--/--> | used | (Mb) | gc trigger | (Mb) | max used | (Mb) |\n",
       "|---|---|---|---|---|---|---|\n",
       "| Ncells |  615278 | 32.9 | 1321322 | 70.6 | 1321322 | 70.6 |\n",
       "| Vcells | 1107243 |  8.5 | 8388608 | 64.0 | 1632080 | 12.5 |\n",
       "\n"
      ],
      "text/plain": [
       "       used    (Mb) gc trigger (Mb) max used (Mb)\n",
       "Ncells  615278 32.9 1321322    70.6 1321322  70.6\n",
       "Vcells 1107243  8.5 8388608    64.0 1632080  12.5"
      ]
     },
     "metadata": {},
     "output_type": "display_data"
    },
    {
     "name": "stderr",
     "output_type": "stream",
     "text": [
      "Loading required package: ggplot2\n",
      "\n",
      "Loading required package: lattice\n",
      "\n"
     ]
    }
   ],
   "source": [
    "rm( list=ls())\n",
    "gc()\n",
    "\n",
    "library(\"data.table\")   #cargo la libreria  data.table\n",
    "library(\"rpart\")  #cargo la libreria  rpart\n",
    "library(\"rpart.plot\")\n",
    "library(\"caret\")\n",
    "\n",
    "options(repr.plot.width=20, repr.plot.height=10) \n",
    "setwd(\"C:/Users/ferbo/Documents/Maestria/7_LI1\") #Aqui se debe poner la ruta de la PC local"
   ]
  },
  {
   "cell_type": "markdown",
   "metadata": {},
   "source": [
    "La funcion que definimos en el notebook anterior"
   ]
  },
  {
   "cell_type": "code",
   "execution_count": 2,
   "metadata": {
    "vscode": {
     "languageId": "r"
    }
   },
   "outputs": [],
   "source": [
    "GananciaArbol  <-  function( semilla, data, x, train=0.70) {\n",
    "  #establezco la semilla\n",
    "  set.seed(semilla)\n",
    "  train_rows <- createDataPartition(dataset$clase_ternaria, p= 0.70,list= FALSE)\n",
    "  \n",
    "  modelo <-  rpart::rpart(formula= \"clase_ternaria ~ .\" ,\n",
    "                          data= data[ train_rows],  #los datos de training\n",
    "                          xval= 0,\n",
    "                          control= x)\n",
    "    \n",
    "  #Aplico el modelo a los datos de testing  \n",
    "  prediccion  <- predict( modelo, data[ -train_rows], type = \"prob\")\n",
    "  \n",
    "  prob_baja2  <- prediccion[, \"BAJA+2\"]\n",
    "  ganancia_testing <- data[ -train_rows, sum(  (prob_baja2> 0.025) * ifelse( clase_ternaria==\"BAJA+2\", 117000, -3000) )]\n",
    "\n",
    "  #normalizo la ganancia\n",
    "  ganancia_testing_normalizada  <- ganancia_testing/0.3  \n",
    "\n",
    "  return( ganancia_testing_normalizada )\n",
    "}"
   ]
  },
  {
   "cell_type": "code",
   "execution_count": 3,
   "metadata": {
    "vscode": {
     "languageId": "r"
    }
   },
   "outputs": [],
   "source": [
    "dataset <- fread(\"./datasets/dataset_pequeno.csv\")   #cargo el dataset\n",
    "dataset <- dataset[ foto_mes==202107 ]  # me quedo solo con el periodo 202107"
   ]
  },
  {
   "cell_type": "markdown",
   "metadata": {},
   "source": [
    "veo que tiene  vector_ganancias"
   ]
  },
  {
   "cell_type": "code",
   "execution_count": 8,
   "metadata": {
    "vscode": {
     "languageId": "r"
    }
   },
   "outputs": [
    {
     "data": {
      "text/html": [
       "<style>\n",
       ".list-inline {list-style: none; margin:0; padding: 0}\n",
       ".list-inline>li {display: inline-block}\n",
       ".list-inline>li:not(:last-child)::after {content: \"\\00b7\"; padding: 0 .5ex}\n",
       "</style>\n",
       "<ol class=list-inline><li>58210000</li><li>53480000</li><li>58130000</li><li>50960000</li><li>47610000</li></ol>\n"
      ],
      "text/latex": [
       "\\begin{enumerate*}\n",
       "\\item 58210000\n",
       "\\item 53480000\n",
       "\\item 58130000\n",
       "\\item 50960000\n",
       "\\item 47610000\n",
       "\\end{enumerate*}\n"
      ],
      "text/markdown": [
       "1. 58210000\n",
       "2. 53480000\n",
       "3. 58130000\n",
       "4. 50960000\n",
       "5. 47610000\n",
       "\n",
       "\n"
      ],
      "text/plain": [
       "[1] 58210000 53480000 58130000 50960000 47610000"
      ]
     },
     "metadata": {},
     "output_type": "display_data"
    }
   ],
   "source": [
    "vector_ganancias"
   ]
  },
  {
   "cell_type": "markdown",
   "metadata": {},
   "source": [
    "Calculo la media de  vector_ganancias"
   ]
  },
  {
   "cell_type": "code",
   "execution_count": 9,
   "metadata": {
    "vscode": {
     "languageId": "r"
    }
   },
   "outputs": [
    {
     "data": {
      "text/html": [
       "53678000"
      ],
      "text/latex": [
       "53678000"
      ],
      "text/markdown": [
       "53678000"
      ],
      "text/plain": [
       "[1] 53678000"
      ]
     },
     "metadata": {},
     "output_type": "display_data"
    }
   ],
   "source": [
    "mean( vector_ganancias )"
   ]
  }
 ],
 "metadata": {
  "kernelspec": {
   "display_name": "R",
   "language": "R",
   "name": "ir"
  },
  "language_info": {
   "codemirror_mode": "r",
   "file_extension": ".r",
   "mimetype": "text/x-r-source",
   "name": "R",
   "pygments_lexer": "r",
   "version": "4.2.3"
  }
 },
 "nbformat": 4,
 "nbformat_minor": 4
}
