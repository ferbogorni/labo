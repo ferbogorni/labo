{
 "cells": [
  {
   "cell_type": "markdown",
   "metadata": {},
   "source": [
    "# Zero to Hero"
   ]
  },
  {
   "cell_type": "markdown",
   "metadata": {},
   "source": [
    "## 1.10 Experimentos con azar Replicables\n",
    "## set.seed()"
   ]
  },
  {
   "cell_type": "markdown",
   "metadata": {},
   "source": [
    "El objetivo es hacer una division del dataset en training/testing que sea estratificada en la clase\n",
    "<br>\n",
    "https://es.wikipedia.org/wiki/Muestreo_estratificado"
   ]
  },
  {
   "cell_type": "code",
   "execution_count": 2,
   "metadata": {
    "tags": [],
    "vscode": {
     "languageId": "r"
    }
   },
   "outputs": [
    {
     "data": {
      "text/html": [
       "<table class=\"dataframe\">\n",
       "<caption>A matrix: 2 × 6 of type dbl</caption>\n",
       "<thead>\n",
       "\t<tr><th></th><th scope=col>used</th><th scope=col>(Mb)</th><th scope=col>gc trigger</th><th scope=col>(Mb)</th><th scope=col>max used</th><th scope=col>(Mb)</th></tr>\n",
       "</thead>\n",
       "<tbody>\n",
       "\t<tr><th scope=row>Ncells</th><td>2304064</td><td>123.1</td><td>4559344</td><td>243.5</td><td>3566563</td><td>190.5</td></tr>\n",
       "\t<tr><th scope=row>Vcells</th><td>3781648</td><td> 28.9</td><td>8388608</td><td> 64.0</td><td>7017401</td><td> 53.6</td></tr>\n",
       "</tbody>\n",
       "</table>\n"
      ],
      "text/latex": [
       "A matrix: 2 × 6 of type dbl\n",
       "\\begin{tabular}{r|llllll}\n",
       "  & used & (Mb) & gc trigger & (Mb) & max used & (Mb)\\\\\n",
       "\\hline\n",
       "\tNcells & 2304064 & 123.1 & 4559344 & 243.5 & 3566563 & 190.5\\\\\n",
       "\tVcells & 3781648 &  28.9 & 8388608 &  64.0 & 7017401 &  53.6\\\\\n",
       "\\end{tabular}\n"
      ],
      "text/markdown": [
       "\n",
       "A matrix: 2 × 6 of type dbl\n",
       "\n",
       "| <!--/--> | used | (Mb) | gc trigger | (Mb) | max used | (Mb) |\n",
       "|---|---|---|---|---|---|---|\n",
       "| Ncells | 2304064 | 123.1 | 4559344 | 243.5 | 3566563 | 190.5 |\n",
       "| Vcells | 3781648 |  28.9 | 8388608 |  64.0 | 7017401 |  53.6 |\n",
       "\n"
      ],
      "text/plain": [
       "       used    (Mb)  gc trigger (Mb)  max used (Mb) \n",
       "Ncells 2304064 123.1 4559344    243.5 3566563  190.5\n",
       "Vcells 3781648  28.9 8388608     64.0 7017401   53.6"
      ]
     },
     "metadata": {},
     "output_type": "display_data"
    }
   ],
   "source": [
    "rm( list=ls())\n",
    "gc()\n",
    "\n",
    "library( \"data.table\")   #cargo la libreria  data.table\n",
    "library( \"rpart\")  #cargo la libreria  rpart\n",
    "library( \"rpart.plot\")\n",
    "library( \"caret\")\n",
    "\n",
    "options(repr.plot.width=20, repr.plot.height=10) \n",
    "setwd(\"C:/Users/ferbo/Documents/Maestria/7_LI1\")  #Aqui se debe poner la ruta de la PC local"
   ]
  },
  {
   "cell_type": "code",
   "execution_count": 3,
   "metadata": {
    "tags": [],
    "vscode": {
     "languageId": "r"
    }
   },
   "outputs": [],
   "source": [
    "dataset <- fread(\"./datasets/dataset_pequeno.csv\")   #cargo el dataset #cargo el dataset\n",
    "djulio <- dataset[ foto_mes==202107 ]"
   ]
  },
  {
   "cell_type": "code",
   "execution_count": 4,
   "metadata": {
    "tags": [],
    "vscode": {
     "languageId": "r"
    }
   },
   "outputs": [],
   "source": [
    "library(\"caret\")"
   ]
  },
  {
   "cell_type": "code",
   "execution_count": 5,
   "metadata": {
    "tags": [],
    "vscode": {
     "languageId": "r"
    }
   },
   "outputs": [],
   "source": [
    "train_rows <- createDataPartition(djulio$clase_ternaria, p= 0.50, list= FALSE)"
   ]
  },
  {
   "cell_type": "code",
   "execution_count": 6,
   "metadata": {
    "tags": [],
    "vscode": {
     "languageId": "r"
    }
   },
   "outputs": [
    {
     "data": {
      "text/html": [
       "<table class=\"dataframe\">\n",
       "<caption>A matrix: 6 × 1 of type int</caption>\n",
       "<thead>\n",
       "\t<tr><th scope=col>Resample1</th></tr>\n",
       "</thead>\n",
       "<tbody>\n",
       "\t<tr><td> 1</td></tr>\n",
       "\t<tr><td> 3</td></tr>\n",
       "\t<tr><td> 5</td></tr>\n",
       "\t<tr><td> 6</td></tr>\n",
       "\t<tr><td>12</td></tr>\n",
       "\t<tr><td>13</td></tr>\n",
       "</tbody>\n",
       "</table>\n"
      ],
      "text/latex": [
       "A matrix: 6 × 1 of type int\n",
       "\\begin{tabular}{l}\n",
       " Resample1\\\\\n",
       "\\hline\n",
       "\t  1\\\\\n",
       "\t  3\\\\\n",
       "\t  5\\\\\n",
       "\t  6\\\\\n",
       "\t 12\\\\\n",
       "\t 13\\\\\n",
       "\\end{tabular}\n"
      ],
      "text/markdown": [
       "\n",
       "A matrix: 6 × 1 of type int\n",
       "\n",
       "| Resample1 |\n",
       "|---|\n",
       "|  1 |\n",
       "|  3 |\n",
       "|  5 |\n",
       "|  6 |\n",
       "| 12 |\n",
       "| 13 |\n",
       "\n"
      ],
      "text/plain": [
       "     Resample1\n",
       "[1,]  1       \n",
       "[2,]  3       \n",
       "[3,]  5       \n",
       "[4,]  6       \n",
       "[5,] 12       \n",
       "[6,] 13       "
      ]
     },
     "metadata": {},
     "output_type": "display_data"
    }
   ],
   "source": [
    "head( train_rows )"
   ]
  },
  {
   "cell_type": "markdown",
   "metadata": {},
   "source": [
    "Volvamos a dividir crear una particion a ver si sale lo mismo"
   ]
  },
  {
   "cell_type": "code",
   "execution_count": 7,
   "metadata": {
    "tags": [],
    "vscode": {
     "languageId": "r"
    }
   },
   "outputs": [
    {
     "data": {
      "text/html": [
       "<table class=\"dataframe\">\n",
       "<caption>A matrix: 6 × 1 of type int</caption>\n",
       "<thead>\n",
       "\t<tr><th scope=col>Resample1</th></tr>\n",
       "</thead>\n",
       "<tbody>\n",
       "\t<tr><td> 3</td></tr>\n",
       "\t<tr><td> 5</td></tr>\n",
       "\t<tr><td> 8</td></tr>\n",
       "\t<tr><td>10</td></tr>\n",
       "\t<tr><td>11</td></tr>\n",
       "\t<tr><td>13</td></tr>\n",
       "</tbody>\n",
       "</table>\n"
      ],
      "text/latex": [
       "A matrix: 6 × 1 of type int\n",
       "\\begin{tabular}{l}\n",
       " Resample1\\\\\n",
       "\\hline\n",
       "\t  3\\\\\n",
       "\t  5\\\\\n",
       "\t  8\\\\\n",
       "\t 10\\\\\n",
       "\t 11\\\\\n",
       "\t 13\\\\\n",
       "\\end{tabular}\n"
      ],
      "text/markdown": [
       "\n",
       "A matrix: 6 × 1 of type int\n",
       "\n",
       "| Resample1 |\n",
       "|---|\n",
       "|  3 |\n",
       "|  5 |\n",
       "|  8 |\n",
       "| 10 |\n",
       "| 11 |\n",
       "| 13 |\n",
       "\n"
      ],
      "text/plain": [
       "     Resample1\n",
       "[1,]  3       \n",
       "[2,]  5       \n",
       "[3,]  8       \n",
       "[4,] 10       \n",
       "[5,] 11       \n",
       "[6,] 13       "
      ]
     },
     "metadata": {},
     "output_type": "display_data"
    }
   ],
   "source": [
    "train_rows <- createDataPartition(djulio$clase_ternaria, p= 0.50, list= FALSE)\n",
    "head( train_rows )"
   ]
  },
  {
   "cell_type": "markdown",
   "metadata": {},
   "source": [
    "Cáspitas !  No ha salido la misma particion.\n",
    "<br>\n",
    "Si yo quiero replicar el mismo experimento, no lo voy a poder hacer, ya que la division entre training y testing va a ser distinta"
   ]
  },
  {
   "cell_type": "markdown",
   "metadata": {},
   "source": [
    "### Ahora la solucion !"
   ]
  },
  {
   "cell_type": "markdown",
   "metadata": {},
   "source": [
    "La solucion es setear la semilla del generador de numeros pseudoaleatorios de R"
   ]
  },
  {
   "cell_type": "code",
   "execution_count": 8,
   "metadata": {
    "tags": [],
    "vscode": {
     "languageId": "r"
    }
   },
   "outputs": [],
   "source": [
    "set.seed(13)"
   ]
  },
  {
   "cell_type": "code",
   "execution_count": 9,
   "metadata": {
    "tags": [],
    "vscode": {
     "languageId": "r"
    }
   },
   "outputs": [
    {
     "data": {
      "text/html": [
       "<table class=\"dataframe\">\n",
       "<caption>A matrix: 6 × 1 of type int</caption>\n",
       "<thead>\n",
       "\t<tr><th scope=col>Resample1</th></tr>\n",
       "</thead>\n",
       "<tbody>\n",
       "\t<tr><td>2</td></tr>\n",
       "\t<tr><td>3</td></tr>\n",
       "\t<tr><td>4</td></tr>\n",
       "\t<tr><td>7</td></tr>\n",
       "\t<tr><td>8</td></tr>\n",
       "\t<tr><td>9</td></tr>\n",
       "</tbody>\n",
       "</table>\n"
      ],
      "text/latex": [
       "A matrix: 6 × 1 of type int\n",
       "\\begin{tabular}{l}\n",
       " Resample1\\\\\n",
       "\\hline\n",
       "\t 2\\\\\n",
       "\t 3\\\\\n",
       "\t 4\\\\\n",
       "\t 7\\\\\n",
       "\t 8\\\\\n",
       "\t 9\\\\\n",
       "\\end{tabular}\n"
      ],
      "text/markdown": [
       "\n",
       "A matrix: 6 × 1 of type int\n",
       "\n",
       "| Resample1 |\n",
       "|---|\n",
       "| 2 |\n",
       "| 3 |\n",
       "| 4 |\n",
       "| 7 |\n",
       "| 8 |\n",
       "| 9 |\n",
       "\n"
      ],
      "text/plain": [
       "     Resample1\n",
       "[1,] 2        \n",
       "[2,] 3        \n",
       "[3,] 4        \n",
       "[4,] 7        \n",
       "[5,] 8        \n",
       "[6,] 9        "
      ]
     },
     "metadata": {},
     "output_type": "display_data"
    }
   ],
   "source": [
    "train_rows <- createDataPartition(djulio$clase_ternaria, p= 0.50, list= FALSE)\n",
    "head( train_rows )"
   ]
  },
  {
   "cell_type": "markdown",
   "metadata": {},
   "source": [
    "Y ahora nuevamente"
   ]
  },
  {
   "cell_type": "code",
   "execution_count": 10,
   "metadata": {
    "tags": [],
    "vscode": {
     "languageId": "r"
    }
   },
   "outputs": [
    {
     "data": {
      "text/html": [
       "<table class=\"dataframe\">\n",
       "<caption>A matrix: 6 × 1 of type int</caption>\n",
       "<thead>\n",
       "\t<tr><th scope=col>Resample1</th></tr>\n",
       "</thead>\n",
       "<tbody>\n",
       "\t<tr><td>2</td></tr>\n",
       "\t<tr><td>3</td></tr>\n",
       "\t<tr><td>4</td></tr>\n",
       "\t<tr><td>7</td></tr>\n",
       "\t<tr><td>8</td></tr>\n",
       "\t<tr><td>9</td></tr>\n",
       "</tbody>\n",
       "</table>\n"
      ],
      "text/latex": [
       "A matrix: 6 × 1 of type int\n",
       "\\begin{tabular}{l}\n",
       " Resample1\\\\\n",
       "\\hline\n",
       "\t 2\\\\\n",
       "\t 3\\\\\n",
       "\t 4\\\\\n",
       "\t 7\\\\\n",
       "\t 8\\\\\n",
       "\t 9\\\\\n",
       "\\end{tabular}\n"
      ],
      "text/markdown": [
       "\n",
       "A matrix: 6 × 1 of type int\n",
       "\n",
       "| Resample1 |\n",
       "|---|\n",
       "| 2 |\n",
       "| 3 |\n",
       "| 4 |\n",
       "| 7 |\n",
       "| 8 |\n",
       "| 9 |\n",
       "\n"
      ],
      "text/plain": [
       "     Resample1\n",
       "[1,] 2        \n",
       "[2,] 3        \n",
       "[3,] 4        \n",
       "[4,] 7        \n",
       "[5,] 8        \n",
       "[6,] 9        "
      ]
     },
     "metadata": {},
     "output_type": "display_data"
    }
   ],
   "source": [
    "set.seed(13)  #uso la misma semilla que antes\n",
    "train_rows <- createDataPartition(djulio$clase_ternaria, p= 0.50, list= FALSE)\n",
    "head( train_rows )"
   ]
  },
  {
   "cell_type": "markdown",
   "metadata": {},
   "source": [
    "Enhorabuena !  la particion es exactamente la misma\n",
    "<br>\n",
    "el set.seed() me permitirá replicar experimentos con exactitud"
   ]
  }
 ],
 "metadata": {
  "kernelspec": {
   "display_name": "R",
   "language": "R",
   "name": "ir"
  },
  "language_info": {
   "codemirror_mode": "r",
   "file_extension": ".r",
   "mimetype": "text/x-r-source",
   "name": "R",
   "pygments_lexer": "r",
   "version": "4.2.3"
  }
 },
 "nbformat": 4,
 "nbformat_minor": 4
}
